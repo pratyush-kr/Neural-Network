{
 "cells": [
  {
   "cell_type": "markdown",
   "metadata": {},
   "source": [
    "# ANN to predict different characters"
   ]
  },
  {
   "cell_type": "markdown",
   "metadata": {},
   "source": [
    "### importing dependecies"
   ]
  },
  {
   "cell_type": "code",
   "execution_count": 1,
   "metadata": {},
   "outputs": [
    {
     "name": "stderr",
     "output_type": "stream",
     "text": [
      "2021-12-08 09:13:34.344067: W tensorflow/stream_executor/platform/default/dso_loader.cc:64] Could not load dynamic library 'libcudart.so.11.0'; dlerror: libcudart.so.11.0: cannot open shared object file: No such file or directory\n",
      "2021-12-08 09:13:34.344092: I tensorflow/stream_executor/cuda/cudart_stub.cc:29] Ignore above cudart dlerror if you do not have a GPU set up on your machine.\n"
     ]
    }
   ],
   "source": [
    "from sklearn.preprocessing import OneHotEncoder, LabelEncoder\n",
    "import tensorflow as tf\n",
    "from tensorflow import keras\n",
    "import numpy as np\n",
    "import matplotlib.pyplot as plt"
   ]
  },
  {
   "cell_type": "markdown",
   "metadata": {},
   "source": [
    "### traning data"
   ]
  },
  {
   "cell_type": "code",
   "execution_count": 2,
   "metadata": {},
   "outputs": [],
   "source": [
    "training_data = np.array([[1,1,0,0,1,0,0,1,0,0,1,0], [1,1,1,0,1,0,0,1,0,0,1,0], [1,0,0,1,0,0,1,0,0,1,1,1], [1,1,1,1,0,1,1,0,1,1,1,1]], \"float32\")"
   ]
  },
  {
   "cell_type": "markdown",
   "metadata": {},
   "source": [
    "#### OneHotEncoder will convert the data to an array on (1, 4) floats"
   ]
  },
  {
   "cell_type": "code",
   "execution_count": 3,
   "metadata": {},
   "outputs": [
    {
     "name": "stdout",
     "output_type": "stream",
     "text": [
      "[[0. 1. 0. 0.]\n",
      " [0. 0. 0. 1.]\n",
      " [0. 0. 1. 0.]\n",
      " [1. 0. 0. 0.]]\n"
     ]
    }
   ],
   "source": [
    "target_data = [['1'], ['T'], ['L'], ['0']]\n",
    "encoder = OneHotEncoder()\n",
    "backup = target_data\n",
    "encoder.fit(target_data)\n",
    "target_data = encoder.transform(target_data).toarray()\n",
    "print(target_data)"
   ]
  },
  {
   "cell_type": "markdown",
   "metadata": {},
   "source": [
    "#### a function to decode encoded data from one hot enoder"
   ]
  },
  {
   "cell_type": "code",
   "execution_count": 4,
   "metadata": {},
   "outputs": [],
   "source": [
    "def decode(output_data, test_data):\n",
    "    array = []\n",
    "    for data in output_data:\n",
    "        for i in range(len(test_data)):\n",
    "            x = encoder.transform([test_data[i]]).toarray()\n",
    "            if np.array_equal([data], x) == True:\n",
    "                array += [test_data[i]]\n",
    "        i += 1\n",
    "    return array"
   ]
  },
  {
   "cell_type": "markdown",
   "metadata": {},
   "source": [
    "Here I have added two layers 1st layer is input layer and takes 12 data next layer takes 8 input fields and outputs 4 fileds as in to depict one hot encoded data array"
   ]
  },
  {
   "cell_type": "code",
   "execution_count": 5,
   "metadata": {},
   "outputs": [
    {
     "name": "stderr",
     "output_type": "stream",
     "text": [
      "2021-12-08 09:13:38.664748: I tensorflow/stream_executor/cuda/cuda_gpu_executor.cc:939] successful NUMA node read from SysFS had negative value (-1), but there must be at least one NUMA node, so returning NUMA node zero\n",
      "2021-12-08 09:13:38.666067: W tensorflow/stream_executor/platform/default/dso_loader.cc:64] Could not load dynamic library 'libcudart.so.11.0'; dlerror: libcudart.so.11.0: cannot open shared object file: No such file or directory\n",
      "2021-12-08 09:13:38.666258: W tensorflow/stream_executor/platform/default/dso_loader.cc:64] Could not load dynamic library 'libcublas.so.11'; dlerror: libcublas.so.11: cannot open shared object file: No such file or directory\n",
      "2021-12-08 09:13:38.666619: W tensorflow/stream_executor/platform/default/dso_loader.cc:64] Could not load dynamic library 'libcublasLt.so.11'; dlerror: libcublasLt.so.11: cannot open shared object file: No such file or directory\n",
      "2021-12-08 09:13:38.666882: W tensorflow/stream_executor/platform/default/dso_loader.cc:64] Could not load dynamic library 'libcufft.so.10'; dlerror: libcufft.so.10: cannot open shared object file: No such file or directory\n",
      "2021-12-08 09:13:38.667025: W tensorflow/stream_executor/platform/default/dso_loader.cc:64] Could not load dynamic library 'libcurand.so.10'; dlerror: libcurand.so.10: cannot open shared object file: No such file or directory\n",
      "2021-12-08 09:13:38.667176: W tensorflow/stream_executor/platform/default/dso_loader.cc:64] Could not load dynamic library 'libcusolver.so.11'; dlerror: libcusolver.so.11: cannot open shared object file: No such file or directory\n",
      "2021-12-08 09:13:38.667367: W tensorflow/stream_executor/platform/default/dso_loader.cc:64] Could not load dynamic library 'libcusparse.so.11'; dlerror: libcusparse.so.11: cannot open shared object file: No such file or directory\n",
      "2021-12-08 09:13:38.667627: W tensorflow/stream_executor/platform/default/dso_loader.cc:64] Could not load dynamic library 'libcudnn.so.8'; dlerror: libcudnn.so.8: cannot open shared object file: No such file or directory\n",
      "2021-12-08 09:13:38.667684: W tensorflow/core/common_runtime/gpu/gpu_device.cc:1850] Cannot dlopen some GPU libraries. Please make sure the missing libraries mentioned above are installed properly if you would like to use GPU. Follow the guide at https://www.tensorflow.org/install/gpu for how to download and setup the required libraries for your platform.\n",
      "Skipping registering GPU devices...\n",
      "2021-12-08 09:13:38.670327: I tensorflow/core/platform/cpu_feature_guard.cc:151] This TensorFlow binary is optimized with oneAPI Deep Neural Network Library (oneDNN) to use the following CPU instructions in performance-critical operations:  AVX2 FMA\n",
      "To enable them in other operations, rebuild TensorFlow with the appropriate compiler flags.\n"
     ]
    }
   ],
   "source": [
    "model = tf.keras.models.Sequential()\n",
    "#adding Layers\n",
    "model.add(tf.keras.layers.Dense(8, input_dim=12, activation='sigmoid'))\n",
    "model.add(tf.keras.layers.Dense(4, input_dim=8, activation='sigmoid'))"
   ]
  },
  {
   "cell_type": "code",
   "execution_count": 6,
   "metadata": {},
   "outputs": [],
   "source": [
    "model.compile(loss='mean_squared_error', optimizer=keras.optimizers.Adam(learning_rate=0.01), metrics=['binary_accuracy'])"
   ]
  },
  {
   "cell_type": "code",
   "execution_count": 7,
   "metadata": {},
   "outputs": [
    {
     "name": "stdout",
     "output_type": "stream",
     "text": [
      "Model: \"sequential\"\n",
      "_________________________________________________________________\n",
      " Layer (type)                Output Shape              Param #   \n",
      "=================================================================\n",
      " dense (Dense)               (None, 8)                 104       \n",
      "                                                                 \n",
      " dense_1 (Dense)             (None, 4)                 36        \n",
      "                                                                 \n",
      "=================================================================\n",
      "Total params: 140\n",
      "Trainable params: 140\n",
      "Non-trainable params: 0\n",
      "_________________________________________________________________\n"
     ]
    }
   ],
   "source": [
    "model.summary()"
   ]
  },
  {
   "cell_type": "markdown",
   "metadata": {},
   "source": [
    "### Training NN now"
   ]
  },
  {
   "cell_type": "code",
   "execution_count": 8,
   "metadata": {},
   "outputs": [
    {
     "name": "stdout",
     "output_type": "stream",
     "text": [
      "Epoch 1/200\n",
      "1/1 - 0s - loss: 0.2519 - binary_accuracy: 0.5625 - 383ms/epoch - 383ms/step\n",
      "Epoch 2/200\n",
      "1/1 - 0s - loss: 0.2434 - binary_accuracy: 0.5000 - 2ms/epoch - 2ms/step\n",
      "Epoch 3/200\n",
      "1/1 - 0s - loss: 0.2354 - binary_accuracy: 0.5000 - 3ms/epoch - 3ms/step\n",
      "Epoch 4/200\n",
      "1/1 - 0s - loss: 0.2279 - binary_accuracy: 0.6250 - 2ms/epoch - 2ms/step\n",
      "Epoch 5/200\n",
      "1/1 - 0s - loss: 0.2211 - binary_accuracy: 0.6875 - 3ms/epoch - 3ms/step\n",
      "Epoch 6/200\n",
      "1/1 - 0s - loss: 0.2148 - binary_accuracy: 0.7500 - 3ms/epoch - 3ms/step\n",
      "Epoch 7/200\n",
      "1/1 - 0s - loss: 0.2091 - binary_accuracy: 0.7500 - 3ms/epoch - 3ms/step\n",
      "Epoch 8/200\n",
      "1/1 - 0s - loss: 0.2039 - binary_accuracy: 0.7500 - 2ms/epoch - 2ms/step\n",
      "Epoch 9/200\n",
      "1/1 - 0s - loss: 0.1993 - binary_accuracy: 0.7500 - 3ms/epoch - 3ms/step\n",
      "Epoch 10/200\n",
      "1/1 - 0s - loss: 0.1952 - binary_accuracy: 0.7500 - 3ms/epoch - 3ms/step\n",
      "Epoch 11/200\n",
      "1/1 - 0s - loss: 0.1915 - binary_accuracy: 0.7500 - 3ms/epoch - 3ms/step\n",
      "Epoch 12/200\n",
      "1/1 - 0s - loss: 0.1883 - binary_accuracy: 0.7500 - 2ms/epoch - 2ms/step\n",
      "Epoch 13/200\n",
      "1/1 - 0s - loss: 0.1854 - binary_accuracy: 0.7500 - 3ms/epoch - 3ms/step\n",
      "Epoch 14/200\n",
      "1/1 - 0s - loss: 0.1829 - binary_accuracy: 0.7500 - 3ms/epoch - 3ms/step\n",
      "Epoch 15/200\n",
      "1/1 - 0s - loss: 0.1807 - binary_accuracy: 0.7500 - 3ms/epoch - 3ms/step\n",
      "Epoch 16/200\n",
      "1/1 - 0s - loss: 0.1787 - binary_accuracy: 0.7500 - 3ms/epoch - 3ms/step\n",
      "Epoch 17/200\n",
      "1/1 - 0s - loss: 0.1769 - binary_accuracy: 0.7500 - 2ms/epoch - 2ms/step\n",
      "Epoch 18/200\n",
      "1/1 - 0s - loss: 0.1752 - binary_accuracy: 0.7500 - 3ms/epoch - 3ms/step\n",
      "Epoch 19/200\n",
      "1/1 - 0s - loss: 0.1737 - binary_accuracy: 0.7500 - 2ms/epoch - 2ms/step\n",
      "Epoch 20/200\n",
      "1/1 - 0s - loss: 0.1723 - binary_accuracy: 0.7500 - 3ms/epoch - 3ms/step\n",
      "Epoch 21/200\n",
      "1/1 - 0s - loss: 0.1709 - binary_accuracy: 0.7500 - 3ms/epoch - 3ms/step\n",
      "Epoch 22/200\n",
      "1/1 - 0s - loss: 0.1696 - binary_accuracy: 0.7500 - 2ms/epoch - 2ms/step\n",
      "Epoch 23/200\n",
      "1/1 - 0s - loss: 0.1683 - binary_accuracy: 0.7500 - 2ms/epoch - 2ms/step\n",
      "Epoch 24/200\n",
      "1/1 - 0s - loss: 0.1670 - binary_accuracy: 0.7500 - 3ms/epoch - 3ms/step\n",
      "Epoch 25/200\n",
      "1/1 - 0s - loss: 0.1656 - binary_accuracy: 0.7500 - 3ms/epoch - 3ms/step\n",
      "Epoch 26/200\n",
      "1/1 - 0s - loss: 0.1643 - binary_accuracy: 0.7500 - 2ms/epoch - 2ms/step\n",
      "Epoch 27/200\n",
      "1/1 - 0s - loss: 0.1629 - binary_accuracy: 0.7500 - 2ms/epoch - 2ms/step\n",
      "Epoch 28/200\n",
      "1/1 - 0s - loss: 0.1614 - binary_accuracy: 0.7500 - 3ms/epoch - 3ms/step\n",
      "Epoch 29/200\n",
      "1/1 - 0s - loss: 0.1599 - binary_accuracy: 0.7500 - 3ms/epoch - 3ms/step\n",
      "Epoch 30/200\n",
      "1/1 - 0s - loss: 0.1584 - binary_accuracy: 0.7500 - 2ms/epoch - 2ms/step\n",
      "Epoch 31/200\n",
      "1/1 - 0s - loss: 0.1568 - binary_accuracy: 0.7500 - 2ms/epoch - 2ms/step\n",
      "Epoch 32/200\n",
      "1/1 - 0s - loss: 0.1552 - binary_accuracy: 0.7500 - 3ms/epoch - 3ms/step\n",
      "Epoch 33/200\n",
      "1/1 - 0s - loss: 0.1536 - binary_accuracy: 0.7500 - 4ms/epoch - 4ms/step\n",
      "Epoch 34/200\n",
      "1/1 - 0s - loss: 0.1519 - binary_accuracy: 0.7500 - 4ms/epoch - 4ms/step\n",
      "Epoch 35/200\n",
      "1/1 - 0s - loss: 0.1503 - binary_accuracy: 0.7500 - 4ms/epoch - 4ms/step\n",
      "Epoch 36/200\n",
      "1/1 - 0s - loss: 0.1486 - binary_accuracy: 0.7500 - 4ms/epoch - 4ms/step\n",
      "Epoch 37/200\n",
      "1/1 - 0s - loss: 0.1469 - binary_accuracy: 0.7500 - 3ms/epoch - 3ms/step\n",
      "Epoch 38/200\n",
      "1/1 - 0s - loss: 0.1452 - binary_accuracy: 0.7500 - 2ms/epoch - 2ms/step\n",
      "Epoch 39/200\n",
      "1/1 - 0s - loss: 0.1435 - binary_accuracy: 0.7500 - 3ms/epoch - 3ms/step\n",
      "Epoch 40/200\n",
      "1/1 - 0s - loss: 0.1418 - binary_accuracy: 0.7500 - 3ms/epoch - 3ms/step\n",
      "Epoch 41/200\n",
      "1/1 - 0s - loss: 0.1402 - binary_accuracy: 0.7500 - 4ms/epoch - 4ms/step\n",
      "Epoch 42/200\n",
      "1/1 - 0s - loss: 0.1385 - binary_accuracy: 0.8125 - 3ms/epoch - 3ms/step\n",
      "Epoch 43/200\n",
      "1/1 - 0s - loss: 0.1369 - binary_accuracy: 0.8125 - 3ms/epoch - 3ms/step\n",
      "Epoch 44/200\n",
      "1/1 - 0s - loss: 0.1353 - binary_accuracy: 0.8125 - 4ms/epoch - 4ms/step\n",
      "Epoch 45/200\n",
      "1/1 - 0s - loss: 0.1337 - binary_accuracy: 0.8125 - 3ms/epoch - 3ms/step\n",
      "Epoch 46/200\n",
      "1/1 - 0s - loss: 0.1321 - binary_accuracy: 0.8125 - 4ms/epoch - 4ms/step\n",
      "Epoch 47/200\n",
      "1/1 - 0s - loss: 0.1306 - binary_accuracy: 0.8750 - 4ms/epoch - 4ms/step\n",
      "Epoch 48/200\n",
      "1/1 - 0s - loss: 0.1290 - binary_accuracy: 0.8750 - 3ms/epoch - 3ms/step\n",
      "Epoch 49/200\n",
      "1/1 - 0s - loss: 0.1275 - binary_accuracy: 0.8750 - 3ms/epoch - 3ms/step\n",
      "Epoch 50/200\n",
      "1/1 - 0s - loss: 0.1260 - binary_accuracy: 0.8750 - 3ms/epoch - 3ms/step\n",
      "Epoch 51/200\n",
      "1/1 - 0s - loss: 0.1245 - binary_accuracy: 0.8750 - 2ms/epoch - 2ms/step\n",
      "Epoch 52/200\n",
      "1/1 - 0s - loss: 0.1230 - binary_accuracy: 0.8750 - 3ms/epoch - 3ms/step\n",
      "Epoch 53/200\n",
      "1/1 - 0s - loss: 0.1216 - binary_accuracy: 0.8750 - 3ms/epoch - 3ms/step\n",
      "Epoch 54/200\n",
      "1/1 - 0s - loss: 0.1202 - binary_accuracy: 0.8750 - 3ms/epoch - 3ms/step\n",
      "Epoch 55/200\n",
      "1/1 - 0s - loss: 0.1188 - binary_accuracy: 0.8750 - 2ms/epoch - 2ms/step\n",
      "Epoch 56/200\n",
      "1/1 - 0s - loss: 0.1175 - binary_accuracy: 0.8750 - 4ms/epoch - 4ms/step\n",
      "Epoch 57/200\n",
      "1/1 - 0s - loss: 0.1162 - binary_accuracy: 0.8750 - 3ms/epoch - 3ms/step\n",
      "Epoch 58/200\n",
      "1/1 - 0s - loss: 0.1149 - binary_accuracy: 0.8750 - 3ms/epoch - 3ms/step\n",
      "Epoch 59/200\n",
      "1/1 - 0s - loss: 0.1136 - binary_accuracy: 0.8750 - 4ms/epoch - 4ms/step\n",
      "Epoch 60/200\n",
      "1/1 - 0s - loss: 0.1124 - binary_accuracy: 0.8750 - 3ms/epoch - 3ms/step\n",
      "Epoch 61/200\n",
      "1/1 - 0s - loss: 0.1112 - binary_accuracy: 0.8750 - 3ms/epoch - 3ms/step\n",
      "Epoch 62/200\n",
      "1/1 - 0s - loss: 0.1101 - binary_accuracy: 0.8750 - 3ms/epoch - 3ms/step\n",
      "Epoch 63/200\n",
      "1/1 - 0s - loss: 0.1090 - binary_accuracy: 0.8750 - 2ms/epoch - 2ms/step\n",
      "Epoch 64/200\n",
      "1/1 - 0s - loss: 0.1079 - binary_accuracy: 0.8750 - 3ms/epoch - 3ms/step\n",
      "Epoch 65/200\n",
      "1/1 - 0s - loss: 0.1068 - binary_accuracy: 0.8750 - 3ms/epoch - 3ms/step\n",
      "Epoch 66/200\n",
      "1/1 - 0s - loss: 0.1058 - binary_accuracy: 0.8750 - 3ms/epoch - 3ms/step\n",
      "Epoch 67/200\n",
      "1/1 - 0s - loss: 0.1047 - binary_accuracy: 0.8750 - 2ms/epoch - 2ms/step\n",
      "Epoch 68/200\n",
      "1/1 - 0s - loss: 0.1037 - binary_accuracy: 0.8750 - 3ms/epoch - 3ms/step\n",
      "Epoch 69/200\n",
      "1/1 - 0s - loss: 0.1027 - binary_accuracy: 0.8750 - 3ms/epoch - 3ms/step\n",
      "Epoch 70/200\n",
      "1/1 - 0s - loss: 0.1017 - binary_accuracy: 0.8750 - 3ms/epoch - 3ms/step\n",
      "Epoch 71/200\n",
      "1/1 - 0s - loss: 0.1008 - binary_accuracy: 0.8750 - 3ms/epoch - 3ms/step\n",
      "Epoch 72/200\n",
      "1/1 - 0s - loss: 0.0998 - binary_accuracy: 0.8750 - 3ms/epoch - 3ms/step\n",
      "Epoch 73/200\n",
      "1/1 - 0s - loss: 0.0989 - binary_accuracy: 0.8750 - 3ms/epoch - 3ms/step\n",
      "Epoch 74/200\n",
      "1/1 - 0s - loss: 0.0980 - binary_accuracy: 0.8750 - 3ms/epoch - 3ms/step\n",
      "Epoch 75/200\n",
      "1/1 - 0s - loss: 0.0971 - binary_accuracy: 0.8750 - 3ms/epoch - 3ms/step\n",
      "Epoch 76/200\n",
      "1/1 - 0s - loss: 0.0962 - binary_accuracy: 0.8750 - 3ms/epoch - 3ms/step\n",
      "Epoch 77/200\n",
      "1/1 - 0s - loss: 0.0953 - binary_accuracy: 0.8750 - 3ms/epoch - 3ms/step\n",
      "Epoch 78/200\n",
      "1/1 - 0s - loss: 0.0944 - binary_accuracy: 0.8750 - 3ms/epoch - 3ms/step\n",
      "Epoch 79/200\n",
      "1/1 - 0s - loss: 0.0936 - binary_accuracy: 0.8750 - 4ms/epoch - 4ms/step\n",
      "Epoch 80/200\n",
      "1/1 - 0s - loss: 0.0927 - binary_accuracy: 0.8750 - 3ms/epoch - 3ms/step\n",
      "Epoch 81/200\n",
      "1/1 - 0s - loss: 0.0919 - binary_accuracy: 0.8750 - 3ms/epoch - 3ms/step\n",
      "Epoch 82/200\n",
      "1/1 - 0s - loss: 0.0910 - binary_accuracy: 0.8750 - 3ms/epoch - 3ms/step\n",
      "Epoch 83/200\n",
      "1/1 - 0s - loss: 0.0902 - binary_accuracy: 0.8750 - 4ms/epoch - 4ms/step\n",
      "Epoch 84/200\n",
      "1/1 - 0s - loss: 0.0894 - binary_accuracy: 0.9375 - 3ms/epoch - 3ms/step\n",
      "Epoch 85/200\n",
      "1/1 - 0s - loss: 0.0886 - binary_accuracy: 0.9375 - 4ms/epoch - 4ms/step\n",
      "Epoch 86/200\n",
      "1/1 - 0s - loss: 0.0879 - binary_accuracy: 0.9375 - 4ms/epoch - 4ms/step\n",
      "Epoch 87/200\n",
      "1/1 - 0s - loss: 0.0871 - binary_accuracy: 0.9375 - 4ms/epoch - 4ms/step\n",
      "Epoch 88/200\n",
      "1/1 - 0s - loss: 0.0863 - binary_accuracy: 0.9375 - 3ms/epoch - 3ms/step\n",
      "Epoch 89/200\n",
      "1/1 - 0s - loss: 0.0856 - binary_accuracy: 0.9375 - 2ms/epoch - 2ms/step\n",
      "Epoch 90/200\n",
      "1/1 - 0s - loss: 0.0848 - binary_accuracy: 0.9375 - 3ms/epoch - 3ms/step\n",
      "Epoch 91/200\n",
      "1/1 - 0s - loss: 0.0841 - binary_accuracy: 0.9375 - 3ms/epoch - 3ms/step\n",
      "Epoch 92/200\n",
      "1/1 - 0s - loss: 0.0834 - binary_accuracy: 0.9375 - 3ms/epoch - 3ms/step\n",
      "Epoch 93/200\n",
      "1/1 - 0s - loss: 0.0826 - binary_accuracy: 0.9375 - 3ms/epoch - 3ms/step\n",
      "Epoch 94/200\n",
      "1/1 - 0s - loss: 0.0819 - binary_accuracy: 0.9375 - 3ms/epoch - 3ms/step\n",
      "Epoch 95/200\n",
      "1/1 - 0s - loss: 0.0812 - binary_accuracy: 0.9375 - 3ms/epoch - 3ms/step\n",
      "Epoch 96/200\n",
      "1/1 - 0s - loss: 0.0806 - binary_accuracy: 0.9375 - 2ms/epoch - 2ms/step\n",
      "Epoch 97/200\n",
      "1/1 - 0s - loss: 0.0799 - binary_accuracy: 0.9375 - 3ms/epoch - 3ms/step\n",
      "Epoch 98/200\n",
      "1/1 - 0s - loss: 0.0792 - binary_accuracy: 0.9375 - 3ms/epoch - 3ms/step\n",
      "Epoch 99/200\n",
      "1/1 - 0s - loss: 0.0785 - binary_accuracy: 0.9375 - 3ms/epoch - 3ms/step\n",
      "Epoch 100/200\n",
      "1/1 - 0s - loss: 0.0779 - binary_accuracy: 0.9375 - 3ms/epoch - 3ms/step\n",
      "Epoch 101/200\n",
      "1/1 - 0s - loss: 0.0772 - binary_accuracy: 0.9375 - 3ms/epoch - 3ms/step\n",
      "Epoch 102/200\n",
      "1/1 - 0s - loss: 0.0766 - binary_accuracy: 0.9375 - 5ms/epoch - 5ms/step\n",
      "Epoch 103/200\n",
      "1/1 - 0s - loss: 0.0760 - binary_accuracy: 0.9375 - 4ms/epoch - 4ms/step\n",
      "Epoch 104/200\n",
      "1/1 - 0s - loss: 0.0753 - binary_accuracy: 0.9375 - 2ms/epoch - 2ms/step\n",
      "Epoch 105/200\n",
      "1/1 - 0s - loss: 0.0747 - binary_accuracy: 0.9375 - 2ms/epoch - 2ms/step\n",
      "Epoch 106/200\n",
      "1/1 - 0s - loss: 0.0741 - binary_accuracy: 0.9375 - 3ms/epoch - 3ms/step\n",
      "Epoch 107/200\n",
      "1/1 - 0s - loss: 0.0735 - binary_accuracy: 0.9375 - 3ms/epoch - 3ms/step\n",
      "Epoch 108/200\n",
      "1/1 - 0s - loss: 0.0729 - binary_accuracy: 0.9375 - 3ms/epoch - 3ms/step\n",
      "Epoch 109/200\n",
      "1/1 - 0s - loss: 0.0723 - binary_accuracy: 0.9375 - 4ms/epoch - 4ms/step\n",
      "Epoch 110/200\n",
      "1/1 - 0s - loss: 0.0717 - binary_accuracy: 0.9375 - 2ms/epoch - 2ms/step\n",
      "Epoch 111/200\n",
      "1/1 - 0s - loss: 0.0711 - binary_accuracy: 0.9375 - 3ms/epoch - 3ms/step\n",
      "Epoch 112/200\n",
      "1/1 - 0s - loss: 0.0706 - binary_accuracy: 0.9375 - 4ms/epoch - 4ms/step\n",
      "Epoch 113/200\n",
      "1/1 - 0s - loss: 0.0700 - binary_accuracy: 0.9375 - 6ms/epoch - 6ms/step\n",
      "Epoch 114/200\n",
      "1/1 - 0s - loss: 0.0694 - binary_accuracy: 0.9375 - 4ms/epoch - 4ms/step\n",
      "Epoch 115/200\n",
      "1/1 - 0s - loss: 0.0688 - binary_accuracy: 0.9375 - 4ms/epoch - 4ms/step\n",
      "Epoch 116/200\n",
      "1/1 - 0s - loss: 0.0683 - binary_accuracy: 0.9375 - 4ms/epoch - 4ms/step\n",
      "Epoch 117/200\n",
      "1/1 - 0s - loss: 0.0677 - binary_accuracy: 0.9375 - 6ms/epoch - 6ms/step\n",
      "Epoch 118/200\n",
      "1/1 - 0s - loss: 0.0671 - binary_accuracy: 0.9375 - 4ms/epoch - 4ms/step\n",
      "Epoch 119/200\n",
      "1/1 - 0s - loss: 0.0666 - binary_accuracy: 0.9375 - 3ms/epoch - 3ms/step\n",
      "Epoch 120/200\n",
      "1/1 - 0s - loss: 0.0660 - binary_accuracy: 0.9375 - 4ms/epoch - 4ms/step\n",
      "Epoch 121/200\n",
      "1/1 - 0s - loss: 0.0654 - binary_accuracy: 0.9375 - 4ms/epoch - 4ms/step\n",
      "Epoch 122/200\n",
      "1/1 - 0s - loss: 0.0649 - binary_accuracy: 0.9375 - 3ms/epoch - 3ms/step\n",
      "Epoch 123/200\n",
      "1/1 - 0s - loss: 0.0643 - binary_accuracy: 0.9375 - 3ms/epoch - 3ms/step\n",
      "Epoch 124/200\n",
      "1/1 - 0s - loss: 0.0637 - binary_accuracy: 1.0000 - 4ms/epoch - 4ms/step\n",
      "Epoch 125/200\n",
      "1/1 - 0s - loss: 0.0632 - binary_accuracy: 1.0000 - 4ms/epoch - 4ms/step\n",
      "Epoch 126/200\n",
      "1/1 - 0s - loss: 0.0626 - binary_accuracy: 1.0000 - 4ms/epoch - 4ms/step\n",
      "Epoch 127/200\n",
      "1/1 - 0s - loss: 0.0620 - binary_accuracy: 1.0000 - 8ms/epoch - 8ms/step\n",
      "Epoch 128/200\n",
      "1/1 - 0s - loss: 0.0614 - binary_accuracy: 1.0000 - 7ms/epoch - 7ms/step\n",
      "Epoch 129/200\n",
      "1/1 - 0s - loss: 0.0609 - binary_accuracy: 1.0000 - 7ms/epoch - 7ms/step\n",
      "Epoch 130/200\n",
      "1/1 - 0s - loss: 0.0603 - binary_accuracy: 1.0000 - 3ms/epoch - 3ms/step\n",
      "Epoch 131/200\n",
      "1/1 - 0s - loss: 0.0597 - binary_accuracy: 1.0000 - 3ms/epoch - 3ms/step\n",
      "Epoch 132/200\n",
      "1/1 - 0s - loss: 0.0591 - binary_accuracy: 1.0000 - 5ms/epoch - 5ms/step\n",
      "Epoch 133/200\n",
      "1/1 - 0s - loss: 0.0585 - binary_accuracy: 1.0000 - 5ms/epoch - 5ms/step\n",
      "Epoch 134/200\n",
      "1/1 - 0s - loss: 0.0579 - binary_accuracy: 1.0000 - 3ms/epoch - 3ms/step\n",
      "Epoch 135/200\n",
      "1/1 - 0s - loss: 0.0573 - binary_accuracy: 1.0000 - 2ms/epoch - 2ms/step\n",
      "Epoch 136/200\n",
      "1/1 - 0s - loss: 0.0567 - binary_accuracy: 1.0000 - 3ms/epoch - 3ms/step\n",
      "Epoch 137/200\n",
      "1/1 - 0s - loss: 0.0561 - binary_accuracy: 1.0000 - 2ms/epoch - 2ms/step\n",
      "Epoch 138/200\n",
      "1/1 - 0s - loss: 0.0555 - binary_accuracy: 1.0000 - 4ms/epoch - 4ms/step\n",
      "Epoch 139/200\n",
      "1/1 - 0s - loss: 0.0549 - binary_accuracy: 1.0000 - 3ms/epoch - 3ms/step\n",
      "Epoch 140/200\n",
      "1/1 - 0s - loss: 0.0543 - binary_accuracy: 1.0000 - 4ms/epoch - 4ms/step\n",
      "Epoch 141/200\n",
      "1/1 - 0s - loss: 0.0536 - binary_accuracy: 1.0000 - 5ms/epoch - 5ms/step\n",
      "Epoch 142/200\n",
      "1/1 - 0s - loss: 0.0530 - binary_accuracy: 1.0000 - 5ms/epoch - 5ms/step\n",
      "Epoch 143/200\n",
      "1/1 - 0s - loss: 0.0524 - binary_accuracy: 1.0000 - 4ms/epoch - 4ms/step\n",
      "Epoch 144/200\n",
      "1/1 - 0s - loss: 0.0517 - binary_accuracy: 1.0000 - 5ms/epoch - 5ms/step\n",
      "Epoch 145/200\n",
      "1/1 - 0s - loss: 0.0511 - binary_accuracy: 1.0000 - 4ms/epoch - 4ms/step\n",
      "Epoch 146/200\n",
      "1/1 - 0s - loss: 0.0505 - binary_accuracy: 1.0000 - 4ms/epoch - 4ms/step\n",
      "Epoch 147/200\n",
      "1/1 - 0s - loss: 0.0498 - binary_accuracy: 1.0000 - 4ms/epoch - 4ms/step\n",
      "Epoch 148/200\n",
      "1/1 - 0s - loss: 0.0492 - binary_accuracy: 1.0000 - 4ms/epoch - 4ms/step\n",
      "Epoch 149/200\n",
      "1/1 - 0s - loss: 0.0485 - binary_accuracy: 1.0000 - 4ms/epoch - 4ms/step\n",
      "Epoch 150/200\n",
      "1/1 - 0s - loss: 0.0479 - binary_accuracy: 1.0000 - 3ms/epoch - 3ms/step\n",
      "Epoch 151/200\n",
      "1/1 - 0s - loss: 0.0472 - binary_accuracy: 1.0000 - 4ms/epoch - 4ms/step\n",
      "Epoch 152/200\n",
      "1/1 - 0s - loss: 0.0465 - binary_accuracy: 1.0000 - 4ms/epoch - 4ms/step\n",
      "Epoch 153/200\n",
      "1/1 - 0s - loss: 0.0459 - binary_accuracy: 1.0000 - 4ms/epoch - 4ms/step\n",
      "Epoch 154/200\n",
      "1/1 - 0s - loss: 0.0452 - binary_accuracy: 1.0000 - 5ms/epoch - 5ms/step\n",
      "Epoch 155/200\n",
      "1/1 - 0s - loss: 0.0446 - binary_accuracy: 1.0000 - 4ms/epoch - 4ms/step\n",
      "Epoch 156/200\n",
      "1/1 - 0s - loss: 0.0439 - binary_accuracy: 1.0000 - 4ms/epoch - 4ms/step\n",
      "Epoch 157/200\n",
      "1/1 - 0s - loss: 0.0433 - binary_accuracy: 1.0000 - 5ms/epoch - 5ms/step\n",
      "Epoch 158/200\n",
      "1/1 - 0s - loss: 0.0426 - binary_accuracy: 1.0000 - 4ms/epoch - 4ms/step\n",
      "Epoch 159/200\n",
      "1/1 - 0s - loss: 0.0420 - binary_accuracy: 1.0000 - 4ms/epoch - 4ms/step\n",
      "Epoch 160/200\n",
      "1/1 - 0s - loss: 0.0413 - binary_accuracy: 1.0000 - 4ms/epoch - 4ms/step\n",
      "Epoch 161/200\n",
      "1/1 - 0s - loss: 0.0406 - binary_accuracy: 1.0000 - 3ms/epoch - 3ms/step\n",
      "Epoch 162/200\n",
      "1/1 - 0s - loss: 0.0400 - binary_accuracy: 1.0000 - 4ms/epoch - 4ms/step\n",
      "Epoch 163/200\n",
      "1/1 - 0s - loss: 0.0394 - binary_accuracy: 1.0000 - 2ms/epoch - 2ms/step\n",
      "Epoch 164/200\n",
      "1/1 - 0s - loss: 0.0387 - binary_accuracy: 1.0000 - 2ms/epoch - 2ms/step\n",
      "Epoch 165/200\n",
      "1/1 - 0s - loss: 0.0381 - binary_accuracy: 1.0000 - 3ms/epoch - 3ms/step\n",
      "Epoch 166/200\n",
      "1/1 - 0s - loss: 0.0374 - binary_accuracy: 1.0000 - 2ms/epoch - 2ms/step\n",
      "Epoch 167/200\n",
      "1/1 - 0s - loss: 0.0368 - binary_accuracy: 1.0000 - 3ms/epoch - 3ms/step\n",
      "Epoch 168/200\n",
      "1/1 - 0s - loss: 0.0362 - binary_accuracy: 1.0000 - 2ms/epoch - 2ms/step\n",
      "Epoch 169/200\n",
      "1/1 - 0s - loss: 0.0356 - binary_accuracy: 1.0000 - 2ms/epoch - 2ms/step\n",
      "Epoch 170/200\n",
      "1/1 - 0s - loss: 0.0349 - binary_accuracy: 1.0000 - 2ms/epoch - 2ms/step\n",
      "Epoch 171/200\n",
      "1/1 - 0s - loss: 0.0343 - binary_accuracy: 1.0000 - 2ms/epoch - 2ms/step\n",
      "Epoch 172/200\n",
      "1/1 - 0s - loss: 0.0337 - binary_accuracy: 1.0000 - 2ms/epoch - 2ms/step\n",
      "Epoch 173/200\n",
      "1/1 - 0s - loss: 0.0331 - binary_accuracy: 1.0000 - 3ms/epoch - 3ms/step\n",
      "Epoch 174/200\n",
      "1/1 - 0s - loss: 0.0325 - binary_accuracy: 1.0000 - 3ms/epoch - 3ms/step\n",
      "Epoch 175/200\n",
      "1/1 - 0s - loss: 0.0320 - binary_accuracy: 1.0000 - 3ms/epoch - 3ms/step\n",
      "Epoch 176/200\n",
      "1/1 - 0s - loss: 0.0314 - binary_accuracy: 1.0000 - 4ms/epoch - 4ms/step\n",
      "Epoch 177/200\n",
      "1/1 - 0s - loss: 0.0308 - binary_accuracy: 1.0000 - 5ms/epoch - 5ms/step\n",
      "Epoch 178/200\n",
      "1/1 - 0s - loss: 0.0303 - binary_accuracy: 1.0000 - 5ms/epoch - 5ms/step\n",
      "Epoch 179/200\n",
      "1/1 - 0s - loss: 0.0297 - binary_accuracy: 1.0000 - 3ms/epoch - 3ms/step\n",
      "Epoch 180/200\n",
      "1/1 - 0s - loss: 0.0292 - binary_accuracy: 1.0000 - 3ms/epoch - 3ms/step\n",
      "Epoch 181/200\n",
      "1/1 - 0s - loss: 0.0286 - binary_accuracy: 1.0000 - 5ms/epoch - 5ms/step\n",
      "Epoch 182/200\n",
      "1/1 - 0s - loss: 0.0281 - binary_accuracy: 1.0000 - 6ms/epoch - 6ms/step\n",
      "Epoch 183/200\n",
      "1/1 - 0s - loss: 0.0276 - binary_accuracy: 1.0000 - 4ms/epoch - 4ms/step\n",
      "Epoch 184/200\n",
      "1/1 - 0s - loss: 0.0271 - binary_accuracy: 1.0000 - 5ms/epoch - 5ms/step\n",
      "Epoch 185/200\n",
      "1/1 - 0s - loss: 0.0266 - binary_accuracy: 1.0000 - 4ms/epoch - 4ms/step\n",
      "Epoch 186/200\n",
      "1/1 - 0s - loss: 0.0261 - binary_accuracy: 1.0000 - 6ms/epoch - 6ms/step\n",
      "Epoch 187/200\n",
      "1/1 - 0s - loss: 0.0256 - binary_accuracy: 1.0000 - 6ms/epoch - 6ms/step\n",
      "Epoch 188/200\n",
      "1/1 - 0s - loss: 0.0252 - binary_accuracy: 1.0000 - 5ms/epoch - 5ms/step\n",
      "Epoch 189/200\n",
      "1/1 - 0s - loss: 0.0247 - binary_accuracy: 1.0000 - 3ms/epoch - 3ms/step\n",
      "Epoch 190/200\n",
      "1/1 - 0s - loss: 0.0243 - binary_accuracy: 1.0000 - 6ms/epoch - 6ms/step\n",
      "Epoch 191/200\n",
      "1/1 - 0s - loss: 0.0238 - binary_accuracy: 1.0000 - 6ms/epoch - 6ms/step\n",
      "Epoch 192/200\n",
      "1/1 - 0s - loss: 0.0234 - binary_accuracy: 1.0000 - 5ms/epoch - 5ms/step\n",
      "Epoch 193/200\n",
      "1/1 - 0s - loss: 0.0230 - binary_accuracy: 1.0000 - 4ms/epoch - 4ms/step\n",
      "Epoch 194/200\n",
      "1/1 - 0s - loss: 0.0225 - binary_accuracy: 1.0000 - 4ms/epoch - 4ms/step\n",
      "Epoch 195/200\n",
      "1/1 - 0s - loss: 0.0221 - binary_accuracy: 1.0000 - 3ms/epoch - 3ms/step\n",
      "Epoch 196/200\n",
      "1/1 - 0s - loss: 0.0217 - binary_accuracy: 1.0000 - 3ms/epoch - 3ms/step\n",
      "Epoch 197/200\n",
      "1/1 - 0s - loss: 0.0213 - binary_accuracy: 1.0000 - 3ms/epoch - 3ms/step\n",
      "Epoch 198/200\n",
      "1/1 - 0s - loss: 0.0210 - binary_accuracy: 1.0000 - 3ms/epoch - 3ms/step\n",
      "Epoch 199/200\n",
      "1/1 - 0s - loss: 0.0206 - binary_accuracy: 1.0000 - 4ms/epoch - 4ms/step\n",
      "Epoch 200/200\n",
      "1/1 - 0s - loss: 0.0202 - binary_accuracy: 1.0000 - 5ms/epoch - 5ms/step\n"
     ]
    }
   ],
   "source": [
    "history = model.fit(training_data, target_data, epochs=200, verbose=2)"
   ]
  },
  {
   "cell_type": "markdown",
   "metadata": {},
   "source": [
    "### Predicting Results"
   ]
  },
  {
   "cell_type": "code",
   "execution_count": 9,
   "metadata": {},
   "outputs": [
    {
     "name": "stdout",
     "output_type": "stream",
     "text": [
      "[['1.0' '1.0' '0.0' '0.0' '1.0' '0.0' '0.0' '1.0' '0.0' '0.0' '1.0' '0.0'\n",
      "  '1']\n",
      " ['1.0' '1.0' '1.0' '0.0' '1.0' '0.0' '0.0' '1.0' '0.0' '0.0' '1.0' '0.0'\n",
      "  'T']\n",
      " ['1.0' '0.0' '0.0' '1.0' '0.0' '0.0' '1.0' '0.0' '0.0' '1.0' '1.0' '1.0'\n",
      "  'L']\n",
      " ['1.0' '1.0' '1.0' '1.0' '0.0' '1.0' '1.0' '0.0' '1.0' '1.0' '1.0' '1.0'\n",
      "  '0']]\n"
     ]
    }
   ],
   "source": [
    "output_data = model.predict(training_data).round()\n",
    "td = np.array(training_data)\n",
    "arr = decode(output_data, backup)\n",
    "arr = np.array(arr)\n",
    "arr.reshape((4, 1))\n",
    "arr = np.block([td, arr])\n",
    "print(arr)\n"
   ]
  },
  {
   "cell_type": "code",
   "execution_count": 10,
   "metadata": {},
   "outputs": [
    {
     "data": {
      "text/plain": [
       "1.0"
      ]
     },
     "execution_count": 10,
     "metadata": {},
     "output_type": "execute_result"
    }
   ],
   "source": [
    "from sklearn.metrics import r2_score\n",
    "r2_score(target_data, output_data)"
   ]
  },
  {
   "cell_type": "code",
   "execution_count": 11,
   "metadata": {},
   "outputs": [],
   "source": [
    "loss_curve = history.history[\"loss\"]\n",
    "acc_curve = history.history[\"binary_accuracy\"]"
   ]
  },
  {
   "cell_type": "code",
   "execution_count": 12,
   "metadata": {},
   "outputs": [
    {
     "data": {
      "image/png": "[encoded data removed]",
      "text/plain": [
       "<Figure size 432x288 with 1 Axes>"
      ]
     },
     "metadata": {
      "needs_background": "light"
     },
     "output_type": "display_data"
    }
   ],
   "source": [
    "plt.plot(loss_curve, label='Train')\n",
    "plt.title('Loss Curve')\n",
    "plt.show()"
   ]
  },
  {
   "cell_type": "code",
   "execution_count": 13,
   "metadata": {},
   "outputs": [
    {
     "data": {
      "image/png": "[encoded data removed]",
      "text/plain": [
       "<Figure size 432x288 with 1 Axes>"
      ]
     },
     "metadata": {
      "needs_background": "light"
     },
     "output_type": "display_data"
    }
   ],
   "source": [
    "plt.plot(acc_curve, label='Train')\n",
    "plt.title('Accuracy')\n",
    "plt.show()"
   ]
  },
  {
   "cell_type": "markdown",
   "metadata": {},
   "source": [
    "# Weights and biases from all the layers"
   ]
  },
  {
   "cell_type": "markdown",
   "metadata": {},
   "source": [
    "### Layer 0"
   ]
  },
  {
   "cell_type": "code",
   "execution_count": 14,
   "metadata": {},
   "outputs": [
    {
     "name": "stderr",
     "output_type": "stream",
     "text": [
      "/tmp/ipykernel_57025/1907337383.py:1: VisibleDeprecationWarning: Creating an ndarray from ragged nested sequences (which is a list-or-tuple of lists-or-tuples-or ndarrays with different lengths or shapes) is deprecated. If you meant to do this, you must specify 'dtype=object' when creating the ndarray.\n",
      "  np.array(model.layers[0].weights)\n"
     ]
    },
    {
     "data": {
      "text/plain": [
       "array([<tf.Variable 'dense/kernel:0' shape=(12, 8) dtype=float32, numpy=\n",
       "       array([[-0.04553116,  1.1959479 ,  0.29356855,  0.05615046, -0.04027945,\n",
       "                0.25640908, -0.6618602 , -0.2918619 ],\n",
       "              [ 1.3331301 , -0.60007983,  0.17483889,  0.15646194,  1.0829903 ,\n",
       "                0.12098861,  1.1317749 , -0.30679482],\n",
       "              [-1.93812   , -1.3398073 , -2.1938498 ,  1.6215302 ,  0.79801893,\n",
       "               -1.5905781 ,  2.2958856 ,  0.52933985],\n",
       "              [-0.16943903, -0.12270562, -0.61836743,  1.1084924 , -1.1510215 ,\n",
       "                0.39046955, -0.42674848,  0.5594738 ],\n",
       "              [ 0.0874173 ,  0.49181572,  0.75057423, -0.3097841 ,  0.10072627,\n",
       "               -0.6483455 , -0.5309229 , -1.0865264 ],\n",
       "              [ 1.5164233 , -1.3081752 ,  0.09327473, -0.38582307,  1.5744913 ,\n",
       "                0.6575471 ,  1.8605705 ,  0.9125434 ],\n",
       "              [ 0.00993828, -0.2253759 , -0.94315726,  1.140666  , -0.6483985 ,\n",
       "                0.46058232, -0.17981383,  0.9945139 ],\n",
       "              [-0.07722755,  0.97967005,  0.3267949 , -0.4966875 ,  0.83646345,\n",
       "               -0.549452  , -0.08347726, -0.5774722 ],\n",
       "              [ 1.8140918 , -1.1478649 , -0.5748053 , -1.0412542 ,  1.6766679 ,\n",
       "                0.50883806,  1.493442  ,  0.95796233],\n",
       "              [-0.43835056, -0.30237404, -0.8573244 ,  0.5938529 , -0.59049624,\n",
       "                1.0638343 , -0.46651813,  0.5204932 ],\n",
       "              [-0.5396827 ,  1.3033714 , -0.37917888,  0.18057942,  0.14337154,\n",
       "                0.20756736, -0.26713422, -0.5459244 ],\n",
       "              [ 0.14072397, -0.64098465, -0.5544021 ,  0.8888844 , -0.84045124,\n",
       "                1.3199444 , -0.626765  ,  0.488685  ]], dtype=float32)>        ,\n",
       "       <tf.Variable 'dense/bias:0' shape=(8,) dtype=float32, numpy=\n",
       "       array([-0.12948552,  0.81628567,  0.01362001,  0.03100564,  0.3389845 ,\n",
       "               0.43889198, -0.69633967, -0.25534052], dtype=float32)>         ],\n",
       "      dtype=object)"
      ]
     },
     "execution_count": 14,
     "metadata": {},
     "output_type": "execute_result"
    }
   ],
   "source": [
    "np.array(model.layers[0].weights)"
   ]
  },
  {
   "cell_type": "code",
   "execution_count": 15,
   "metadata": {},
   "outputs": [
    {
     "data": {
      "text/plain": [
       "array([-0.12948552,  0.81628567,  0.01362001,  0.03100564,  0.3389845 ,\n",
       "        0.43889198, -0.69633967, -0.25534052], dtype=float32)"
      ]
     },
     "execution_count": 15,
     "metadata": {},
     "output_type": "execute_result"
    }
   ],
   "source": [
    "model.layers[0].bias.numpy()"
   ]
  },
  {
   "cell_type": "markdown",
   "metadata": {},
   "source": [
    "### Layer 1"
   ]
  },
  {
   "cell_type": "code",
   "execution_count": 16,
   "metadata": {},
   "outputs": [
    {
     "data": {
      "text/plain": [
       "[<tf.Variable 'dense_1/kernel:0' shape=(8, 4) dtype=float32, numpy=\n",
       " array([[ 1.500935  ,  1.1087834 , -2.0512905 , -1.7418822 ],\n",
       "        [-1.9702976 ,  0.17327277,  0.7376685 ,  0.5282222 ],\n",
       "        [-1.0133072 ,  2.003909  , -1.6115173 , -0.7806116 ],\n",
       "        [-1.2825342 , -1.1942817 ,  0.9159209 ,  0.6183726 ],\n",
       "        [ 0.13836594, -0.02894274, -2.0899131 ,  0.60425764],\n",
       "        [ 0.7559351 , -0.47290844,  0.9411677 , -2.361369  ],\n",
       "        [ 1.0536734 , -0.6570531 , -1.862814  ,  0.7152399 ],\n",
       "        [ 0.797985  , -1.2667956 ,  0.69983965, -1.015922  ]],\n",
       "       dtype=float32)>,\n",
       " <tf.Variable 'dense_1/bias:0' shape=(4,) dtype=float32, numpy=\n",
       " array([-7.09166348e-01, -4.02186573e-01,  4.10368741e-02, -1.20386714e-04],\n",
       "       dtype=float32)>]"
      ]
     },
     "execution_count": 16,
     "metadata": {},
     "output_type": "execute_result"
    }
   ],
   "source": [
    "model.layers[1].weights"
   ]
  },
  {
   "cell_type": "code",
   "execution_count": 18,
   "metadata": {},
   "outputs": [
    {
     "data": {
      "text/plain": [
       "array([-7.09166348e-01, -4.02186573e-01,  4.10368741e-02, -1.20386714e-04],\n",
       "      dtype=float32)"
      ]
     },
     "execution_count": 18,
     "metadata": {},
     "output_type": "execute_result"
    }
   ],
   "source": [
    "model.layers[1].bias.numpy()"
   ]
  },
  {
   "cell_type": "code",
   "execution_count": 19,
   "metadata": {},
   "outputs": [
    {
     "name": "stderr",
     "output_type": "stream",
     "text": [
      "2021-12-08 09:14:20.032828: W tensorflow/python/util/util.cc:368] Sets are not currently considered sequences, but this may change in the future, so consider avoiding using them.\n"
     ]
    },
    {
     "name": "stdout",
     "output_type": "stream",
     "text": [
      "INFO:tensorflow:Assets written to: my_model/assets\n"
     ]
    }
   ],
   "source": [
    "model.save('my_model')"
   ]
  },
  {
   "cell_type": "code",
   "execution_count": 21,
   "metadata": {},
   "outputs": [
    {
     "name": "stderr",
     "output_type": "stream",
     "text": [
      "2021-12-08 09:16:58.889005: W tensorflow/core/util/tensor_slice_reader.cc:96] Could not open my_model/keras_metadata.pb: DATA_LOSS: not an sstable (bad magic number): perhaps your file is in a different file format and you need to use a different restore operator?\n"
     ]
    },
    {
     "ename": "ValueError",
     "evalue": "Unable to load weights saved in HDF5 format into a subclassed Model which has not created its variables yet. Call the Model first, then load the weights.",
     "output_type": "error",
     "traceback": [
      "\u001b[0;31m---------------------------------------------------------------------------\u001b[0m",
      "\u001b[0;31mValueError\u001b[0m                                Traceback (most recent call last)",
      "\u001b[0;32m/tmp/ipykernel_57025/3296845510.py\u001b[0m in \u001b[0;36m<module>\u001b[0;34m\u001b[0m\n\u001b[1;32m      1\u001b[0m \u001b[0mmodel\u001b[0m \u001b[0;34m=\u001b[0m \u001b[0mtf\u001b[0m\u001b[0;34m.\u001b[0m\u001b[0mkeras\u001b[0m\u001b[0;34m.\u001b[0m\u001b[0mmodels\u001b[0m\u001b[0;34m.\u001b[0m\u001b[0mSequential\u001b[0m\u001b[0;34m(\u001b[0m\u001b[0;34m)\u001b[0m\u001b[0;34m\u001b[0m\u001b[0;34m\u001b[0m\u001b[0m\n\u001b[0;32m----> 2\u001b[0;31m \u001b[0mmodel\u001b[0m\u001b[0;34m.\u001b[0m\u001b[0mload_weights\u001b[0m\u001b[0;34m(\u001b[0m\u001b[0;34m'my_model/keras_metadata.pb'\u001b[0m\u001b[0;34m)\u001b[0m\u001b[0;34m\u001b[0m\u001b[0;34m\u001b[0m\u001b[0m\n\u001b[0m",
      "\u001b[0;32m~/.local/lib/python3.9/site-packages/keras/utils/traceback_utils.py\u001b[0m in \u001b[0;36merror_handler\u001b[0;34m(*args, **kwargs)\u001b[0m\n\u001b[1;32m     65\u001b[0m     \u001b[0;32mexcept\u001b[0m \u001b[0mException\u001b[0m \u001b[0;32mas\u001b[0m \u001b[0me\u001b[0m\u001b[0;34m:\u001b[0m  \u001b[0;31m# pylint: disable=broad-except\u001b[0m\u001b[0;34m\u001b[0m\u001b[0;34m\u001b[0m\u001b[0m\n\u001b[1;32m     66\u001b[0m       \u001b[0mfiltered_tb\u001b[0m \u001b[0;34m=\u001b[0m \u001b[0m_process_traceback_frames\u001b[0m\u001b[0;34m(\u001b[0m\u001b[0me\u001b[0m\u001b[0;34m.\u001b[0m\u001b[0m__traceback__\u001b[0m\u001b[0;34m)\u001b[0m\u001b[0;34m\u001b[0m\u001b[0;34m\u001b[0m\u001b[0m\n\u001b[0;32m---> 67\u001b[0;31m       \u001b[0;32mraise\u001b[0m \u001b[0me\u001b[0m\u001b[0;34m.\u001b[0m\u001b[0mwith_traceback\u001b[0m\u001b[0;34m(\u001b[0m\u001b[0mfiltered_tb\u001b[0m\u001b[0;34m)\u001b[0m \u001b[0;32mfrom\u001b[0m \u001b[0;32mNone\u001b[0m\u001b[0;34m\u001b[0m\u001b[0;34m\u001b[0m\u001b[0m\n\u001b[0m\u001b[1;32m     68\u001b[0m     \u001b[0;32mfinally\u001b[0m\u001b[0;34m:\u001b[0m\u001b[0;34m\u001b[0m\u001b[0;34m\u001b[0m\u001b[0m\n\u001b[1;32m     69\u001b[0m       \u001b[0;32mdel\u001b[0m \u001b[0mfiltered_tb\u001b[0m\u001b[0;34m\u001b[0m\u001b[0;34m\u001b[0m\u001b[0m\n",
      "\u001b[0;32m~/.local/lib/python3.9/site-packages/keras/engine/training.py\u001b[0m in \u001b[0;36mload_weights\u001b[0;34m(self, filepath, by_name, skip_mismatch, options)\u001b[0m\n\u001b[1;32m   2398\u001b[0m             'HDF5. Try installing h5py.')\n\u001b[1;32m   2399\u001b[0m       \u001b[0;32mif\u001b[0m \u001b[0;32mnot\u001b[0m \u001b[0mself\u001b[0m\u001b[0;34m.\u001b[0m\u001b[0m_is_graph_network\u001b[0m \u001b[0;32mand\u001b[0m \u001b[0;32mnot\u001b[0m \u001b[0mself\u001b[0m\u001b[0;34m.\u001b[0m\u001b[0mbuilt\u001b[0m\u001b[0;34m:\u001b[0m\u001b[0;34m\u001b[0m\u001b[0;34m\u001b[0m\u001b[0m\n\u001b[0;32m-> 2400\u001b[0;31m         raise ValueError(\n\u001b[0m\u001b[1;32m   2401\u001b[0m             \u001b[0;34m'Unable to load weights saved in HDF5 format into a subclassed '\u001b[0m\u001b[0;34m\u001b[0m\u001b[0;34m\u001b[0m\u001b[0m\n\u001b[1;32m   2402\u001b[0m             \u001b[0;34m'Model which has not created its variables yet. Call the Model '\u001b[0m\u001b[0;34m\u001b[0m\u001b[0;34m\u001b[0m\u001b[0m\n",
      "\u001b[0;31mValueError\u001b[0m: Unable to load weights saved in HDF5 format into a subclassed Model which has not created its variables yet. Call the Model first, then load the weights."
     ]
    }
   ],
   "source": [
    "model = tf.keras.models.Sequential()\n",
    "model.load_weights('my_model/keras_metadata.pb')"
   ]
  },
  {
   "cell_type": "code",
   "execution_count": null,
   "metadata": {},
   "outputs": [],
   "source": []
  }
 ],
 "metadata": {
  "interpreter": {
   "hash": "f1cb89368905b50385fa58d02ffabcfd1473490d540b027c7d5535f7d17dbec7"
  },
  "kernelspec": {
   "display_name": "Python 3.8.10 64-bit ('init': venv)",
   "language": "python",
   "name": "python3"
  },
  "language_info": {
   "codemirror_mode": {
    "name": "ipython",
    "version": 3
   },
   "file_extension": ".py",
   "mimetype": "text/x-python",
   "name": "python",
   "nbconvert_exporter": "python",
   "pygments_lexer": "ipython3",
   "version": "3.9.9"
  },
  "orig_nbformat": 4
 },
 "nbformat": 4,
 "nbformat_minor": 2
}
