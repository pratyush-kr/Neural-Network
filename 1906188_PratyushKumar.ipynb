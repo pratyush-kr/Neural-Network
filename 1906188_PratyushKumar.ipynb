{
 "cells": [
  {
   "cell_type": "markdown",
   "metadata": {},
   "source": [
    "# ANN to predict different characters"
   ]
  },
  {
   "cell_type": "markdown",
   "metadata": {},
   "source": [
    "### importing dependecies"
   ]
  },
  {
   "cell_type": "code",
   "execution_count": 1,
   "metadata": {},
   "outputs": [],
   "source": [
    "from sklearn.preprocessing import OneHotEncoder, LabelEncoder\n",
    "import tensorflow as tf\n",
    "from tensorflow import keras\n",
    "import numpy as np\n",
    "import matplotlib.pyplot as plt"
   ]
  },
  {
   "cell_type": "markdown",
   "metadata": {},
   "source": [
    "### traning data"
   ]
  },
  {
   "cell_type": "code",
   "execution_count": 2,
   "metadata": {},
   "outputs": [],
   "source": [
    "training_data = np.array([[1,1,0,0,1,0,0,1,0,0,1,0], [1,1,1,0,1,0,0,1,0,0,1,0], [1,0,0,1,0,0,1,0,0,1,1,1], [1,1,1,1,0,1,1,0,1,1,1,1]], \"float32\")"
   ]
  },
  {
   "cell_type": "markdown",
   "metadata": {},
   "source": [
    "#### OneHotEncoder will convert the data to an array on (1, 4) floats"
   ]
  },
  {
   "cell_type": "code",
   "execution_count": 3,
   "metadata": {},
   "outputs": [
    {
     "name": "stdout",
     "output_type": "stream",
     "text": [
      "[[0. 1. 0. 0.]\n",
      " [0. 0. 0. 1.]\n",
      " [0. 0. 1. 0.]\n",
      " [1. 0. 0. 0.]]\n"
     ]
    }
   ],
   "source": [
    "target_data = [['1'], ['T'], ['L'], ['0']]\n",
    "encoder = OneHotEncoder()\n",
    "backup = target_data\n",
    "encoder.fit(target_data)\n",
    "target_data = encoder.transform(target_data).toarray()\n",
    "print(target_data)"
   ]
  },
  {
   "cell_type": "markdown",
   "metadata": {},
   "source": [
    "#### a function to decode encoded data from one hot enoder"
   ]
  },
  {
   "cell_type": "code",
   "execution_count": 4,
   "metadata": {},
   "outputs": [],
   "source": [
    "def decode(output_data, test_data):\n",
    "    array = []\n",
    "    for data in output_data:\n",
    "        for i in range(len(test_data)):\n",
    "            x = encoder.transform([test_data[i]]).toarray()\n",
    "            if np.array_equal([data], x) == True:\n",
    "                array += [test_data[i]]\n",
    "        i += 1\n",
    "    return array"
   ]
  },
  {
   "cell_type": "markdown",
   "metadata": {},
   "source": [
    "Here I have added two layers 1st layer is input layer and takes 12 data next layer takes 8 input fields and outputs 4 fileds as in to depict one hot encoded data array"
   ]
  },
  {
   "cell_type": "code",
   "execution_count": 5,
   "metadata": {},
   "outputs": [],
   "source": [
    "model = tf.keras.models.Sequential()\n",
    "#adding Layers\n",
    "model.add(tf.keras.layers.Dense(8, input_dim=12, activation='sigmoid'))\n",
    "model.add(tf.keras.layers.Dense(4, input_dim=8, activation='sigmoid'))"
   ]
  },
  {
   "cell_type": "code",
   "execution_count": 6,
   "metadata": {},
   "outputs": [],
   "source": [
    "model.compile(loss='mean_squared_error', optimizer=keras.optimizers.Adam(learning_rate=0.01), metrics=['binary_accuracy'])"
   ]
  },
  {
   "cell_type": "code",
   "execution_count": 7,
   "metadata": {},
   "outputs": [
    {
     "name": "stdout",
     "output_type": "stream",
     "text": [
      "Model: \"sequential\"\n",
      "_________________________________________________________________\n",
      " Layer (type)                Output Shape              Param #   \n",
      "=================================================================\n",
      " dense (Dense)               (None, 8)                 104       \n",
      "                                                                 \n",
      " dense_1 (Dense)             (None, 4)                 36        \n",
      "                                                                 \n",
      "=================================================================\n",
      "Total params: 140\n",
      "Trainable params: 140\n",
      "Non-trainable params: 0\n",
      "_________________________________________________________________\n"
     ]
    }
   ],
   "source": [
    "model.summary()"
   ]
  },
  {
   "cell_type": "markdown",
   "metadata": {},
   "source": [
    "### Training NN now"
   ]
  },
  {
   "cell_type": "code",
   "execution_count": 8,
   "metadata": {},
   "outputs": [
    {
     "name": "stdout",
     "output_type": "stream",
     "text": [
      "Epoch 1/200\n",
      "1/1 - 0s - loss: 0.3030 - binary_accuracy: 0.4375 - 325ms/epoch - 325ms/step\n",
      "Epoch 2/200\n",
      "1/1 - 0s - loss: 0.2913 - binary_accuracy: 0.4375 - 1ms/epoch - 1ms/step\n",
      "Epoch 3/200\n",
      "1/1 - 0s - loss: 0.2802 - binary_accuracy: 0.5000 - 2ms/epoch - 2ms/step\n",
      "Epoch 4/200\n",
      "1/1 - 0s - loss: 0.2696 - binary_accuracy: 0.5000 - 1ms/epoch - 1ms/step\n",
      "Epoch 5/200\n",
      "1/1 - 0s - loss: 0.2597 - binary_accuracy: 0.5000 - 1ms/epoch - 1ms/step\n",
      "Epoch 6/200\n",
      "1/1 - 0s - loss: 0.2504 - binary_accuracy: 0.6250 - 1ms/epoch - 1ms/step\n",
      "Epoch 7/200\n",
      "1/1 - 0s - loss: 0.2417 - binary_accuracy: 0.5000 - 1ms/epoch - 1ms/step\n",
      "Epoch 8/200\n",
      "1/1 - 0s - loss: 0.2336 - binary_accuracy: 0.6250 - 2ms/epoch - 2ms/step\n",
      "Epoch 9/200\n",
      "1/1 - 0s - loss: 0.2262 - binary_accuracy: 0.6250 - 1ms/epoch - 1ms/step\n",
      "Epoch 10/200\n",
      "1/1 - 0s - loss: 0.2193 - binary_accuracy: 0.6250 - 2ms/epoch - 2ms/step\n",
      "Epoch 11/200\n",
      "1/1 - 0s - loss: 0.2130 - binary_accuracy: 0.6250 - 1ms/epoch - 1ms/step\n",
      "Epoch 12/200\n",
      "1/1 - 0s - loss: 0.2072 - binary_accuracy: 0.6250 - 1ms/epoch - 1ms/step\n",
      "Epoch 13/200\n",
      "1/1 - 0s - loss: 0.2020 - binary_accuracy: 0.6250 - 2ms/epoch - 2ms/step\n",
      "Epoch 14/200\n",
      "1/1 - 0s - loss: 0.1972 - binary_accuracy: 0.6875 - 2ms/epoch - 2ms/step\n",
      "Epoch 15/200\n",
      "1/1 - 0s - loss: 0.1928 - binary_accuracy: 0.7500 - 1ms/epoch - 1ms/step\n",
      "Epoch 16/200\n",
      "1/1 - 0s - loss: 0.1888 - binary_accuracy: 0.7500 - 1ms/epoch - 1ms/step\n",
      "Epoch 17/200\n",
      "1/1 - 0s - loss: 0.1852 - binary_accuracy: 0.7500 - 1ms/epoch - 1ms/step\n",
      "Epoch 18/200\n",
      "1/1 - 0s - loss: 0.1819 - binary_accuracy: 0.6875 - 1ms/epoch - 1ms/step\n",
      "Epoch 19/200\n",
      "1/1 - 0s - loss: 0.1789 - binary_accuracy: 0.7500 - 2ms/epoch - 2ms/step\n",
      "Epoch 20/200\n",
      "1/1 - 0s - loss: 0.1761 - binary_accuracy: 0.7500 - 2ms/epoch - 2ms/step\n",
      "Epoch 21/200\n",
      "1/1 - 0s - loss: 0.1736 - binary_accuracy: 0.7500 - 1ms/epoch - 1ms/step\n",
      "Epoch 22/200\n",
      "1/1 - 0s - loss: 0.1713 - binary_accuracy: 0.7500 - 2ms/epoch - 2ms/step\n",
      "Epoch 23/200\n",
      "1/1 - 0s - loss: 0.1691 - binary_accuracy: 0.7500 - 6ms/epoch - 6ms/step\n",
      "Epoch 24/200\n",
      "1/1 - 0s - loss: 0.1670 - binary_accuracy: 0.7500 - 2ms/epoch - 2ms/step\n",
      "Epoch 25/200\n",
      "1/1 - 0s - loss: 0.1651 - binary_accuracy: 0.7500 - 2ms/epoch - 2ms/step\n",
      "Epoch 26/200\n",
      "1/1 - 0s - loss: 0.1632 - binary_accuracy: 0.7500 - 2ms/epoch - 2ms/step\n",
      "Epoch 27/200\n",
      "1/1 - 0s - loss: 0.1615 - binary_accuracy: 0.7500 - 2ms/epoch - 2ms/step\n",
      "Epoch 28/200\n",
      "1/1 - 0s - loss: 0.1598 - binary_accuracy: 0.7500 - 2ms/epoch - 2ms/step\n",
      "Epoch 29/200\n",
      "1/1 - 0s - loss: 0.1582 - binary_accuracy: 0.7500 - 2ms/epoch - 2ms/step\n",
      "Epoch 30/200\n",
      "1/1 - 0s - loss: 0.1566 - binary_accuracy: 0.7500 - 2ms/epoch - 2ms/step\n",
      "Epoch 31/200\n",
      "1/1 - 0s - loss: 0.1551 - binary_accuracy: 0.7500 - 2ms/epoch - 2ms/step\n",
      "Epoch 32/200\n",
      "1/1 - 0s - loss: 0.1536 - binary_accuracy: 0.7500 - 2ms/epoch - 2ms/step\n",
      "Epoch 33/200\n",
      "1/1 - 0s - loss: 0.1521 - binary_accuracy: 0.7500 - 2ms/epoch - 2ms/step\n",
      "Epoch 34/200\n",
      "1/1 - 0s - loss: 0.1506 - binary_accuracy: 0.7500 - 2ms/epoch - 2ms/step\n",
      "Epoch 35/200\n",
      "1/1 - 0s - loss: 0.1492 - binary_accuracy: 0.7500 - 3ms/epoch - 3ms/step\n",
      "Epoch 36/200\n",
      "1/1 - 0s - loss: 0.1478 - binary_accuracy: 0.7500 - 3ms/epoch - 3ms/step\n",
      "Epoch 37/200\n",
      "1/1 - 0s - loss: 0.1464 - binary_accuracy: 0.7500 - 3ms/epoch - 3ms/step\n",
      "Epoch 38/200\n",
      "1/1 - 0s - loss: 0.1451 - binary_accuracy: 0.7500 - 2ms/epoch - 2ms/step\n",
      "Epoch 39/200\n",
      "1/1 - 0s - loss: 0.1437 - binary_accuracy: 0.7500 - 2ms/epoch - 2ms/step\n",
      "Epoch 40/200\n",
      "1/1 - 0s - loss: 0.1424 - binary_accuracy: 0.7500 - 2ms/epoch - 2ms/step\n",
      "Epoch 41/200\n",
      "1/1 - 0s - loss: 0.1410 - binary_accuracy: 0.7500 - 2ms/epoch - 2ms/step\n",
      "Epoch 42/200\n",
      "1/1 - 0s - loss: 0.1397 - binary_accuracy: 0.7500 - 2ms/epoch - 2ms/step\n",
      "Epoch 43/200\n",
      "1/1 - 0s - loss: 0.1385 - binary_accuracy: 0.7500 - 2ms/epoch - 2ms/step\n",
      "Epoch 44/200\n",
      "1/1 - 0s - loss: 0.1372 - binary_accuracy: 0.7500 - 2ms/epoch - 2ms/step\n",
      "Epoch 45/200\n",
      "1/1 - 0s - loss: 0.1360 - binary_accuracy: 0.7500 - 2ms/epoch - 2ms/step\n",
      "Epoch 46/200\n",
      "1/1 - 0s - loss: 0.1347 - binary_accuracy: 0.7500 - 2ms/epoch - 2ms/step\n",
      "Epoch 47/200\n",
      "1/1 - 0s - loss: 0.1335 - binary_accuracy: 0.7500 - 2ms/epoch - 2ms/step\n",
      "Epoch 48/200\n",
      "1/1 - 0s - loss: 0.1324 - binary_accuracy: 0.8125 - 2ms/epoch - 2ms/step\n",
      "Epoch 49/200\n",
      "1/1 - 0s - loss: 0.1312 - binary_accuracy: 0.8125 - 2ms/epoch - 2ms/step\n",
      "Epoch 50/200\n",
      "1/1 - 0s - loss: 0.1301 - binary_accuracy: 0.8125 - 2ms/epoch - 2ms/step\n",
      "Epoch 51/200\n",
      "1/1 - 0s - loss: 0.1290 - binary_accuracy: 0.8125 - 4ms/epoch - 4ms/step\n",
      "Epoch 52/200\n",
      "1/1 - 0s - loss: 0.1279 - binary_accuracy: 0.8125 - 2ms/epoch - 2ms/step\n",
      "Epoch 53/200\n",
      "1/1 - 0s - loss: 0.1268 - binary_accuracy: 0.8750 - 2ms/epoch - 2ms/step\n",
      "Epoch 54/200\n",
      "1/1 - 0s - loss: 0.1258 - binary_accuracy: 0.8750 - 2ms/epoch - 2ms/step\n",
      "Epoch 55/200\n",
      "1/1 - 0s - loss: 0.1247 - binary_accuracy: 0.8750 - 2ms/epoch - 2ms/step\n",
      "Epoch 56/200\n",
      "1/1 - 0s - loss: 0.1237 - binary_accuracy: 0.8750 - 2ms/epoch - 2ms/step\n",
      "Epoch 57/200\n",
      "1/1 - 0s - loss: 0.1227 - binary_accuracy: 0.8750 - 2ms/epoch - 2ms/step\n",
      "Epoch 58/200\n",
      "1/1 - 0s - loss: 0.1217 - binary_accuracy: 0.8750 - 2ms/epoch - 2ms/step\n",
      "Epoch 59/200\n",
      "1/1 - 0s - loss: 0.1208 - binary_accuracy: 0.8750 - 2ms/epoch - 2ms/step\n",
      "Epoch 60/200\n",
      "1/1 - 0s - loss: 0.1198 - binary_accuracy: 0.8750 - 2ms/epoch - 2ms/step\n",
      "Epoch 61/200\n",
      "1/1 - 0s - loss: 0.1189 - binary_accuracy: 0.8750 - 2ms/epoch - 2ms/step\n",
      "Epoch 62/200\n",
      "1/1 - 0s - loss: 0.1179 - binary_accuracy: 0.8750 - 2ms/epoch - 2ms/step\n",
      "Epoch 63/200\n",
      "1/1 - 0s - loss: 0.1170 - binary_accuracy: 0.8750 - 2ms/epoch - 2ms/step\n",
      "Epoch 64/200\n",
      "1/1 - 0s - loss: 0.1161 - binary_accuracy: 0.8750 - 2ms/epoch - 2ms/step\n",
      "Epoch 65/200\n",
      "1/1 - 0s - loss: 0.1152 - binary_accuracy: 0.8750 - 2ms/epoch - 2ms/step\n",
      "Epoch 66/200\n",
      "1/1 - 0s - loss: 0.1143 - binary_accuracy: 0.8750 - 2ms/epoch - 2ms/step\n",
      "Epoch 67/200\n",
      "1/1 - 0s - loss: 0.1134 - binary_accuracy: 0.8750 - 2ms/epoch - 2ms/step\n",
      "Epoch 68/200\n",
      "1/1 - 0s - loss: 0.1125 - binary_accuracy: 0.8750 - 2ms/epoch - 2ms/step\n",
      "Epoch 69/200\n",
      "1/1 - 0s - loss: 0.1117 - binary_accuracy: 0.8750 - 2ms/epoch - 2ms/step\n",
      "Epoch 70/200\n",
      "1/1 - 0s - loss: 0.1108 - binary_accuracy: 0.8750 - 2ms/epoch - 2ms/step\n",
      "Epoch 71/200\n",
      "1/1 - 0s - loss: 0.1100 - binary_accuracy: 0.8750 - 2ms/epoch - 2ms/step\n",
      "Epoch 72/200\n",
      "1/1 - 0s - loss: 0.1091 - binary_accuracy: 0.8750 - 2ms/epoch - 2ms/step\n",
      "Epoch 73/200\n",
      "1/1 - 0s - loss: 0.1083 - binary_accuracy: 0.8750 - 2ms/epoch - 2ms/step\n",
      "Epoch 74/200\n",
      "1/1 - 0s - loss: 0.1074 - binary_accuracy: 0.8750 - 2ms/epoch - 2ms/step\n",
      "Epoch 75/200\n",
      "1/1 - 0s - loss: 0.1066 - binary_accuracy: 0.8750 - 2ms/epoch - 2ms/step\n",
      "Epoch 76/200\n",
      "1/1 - 0s - loss: 0.1058 - binary_accuracy: 0.8750 - 2ms/epoch - 2ms/step\n",
      "Epoch 77/200\n",
      "1/1 - 0s - loss: 0.1049 - binary_accuracy: 0.8750 - 3ms/epoch - 3ms/step\n",
      "Epoch 78/200\n",
      "1/1 - 0s - loss: 0.1041 - binary_accuracy: 0.8750 - 2ms/epoch - 2ms/step\n",
      "Epoch 79/200\n",
      "1/1 - 0s - loss: 0.1033 - binary_accuracy: 0.8750 - 2ms/epoch - 2ms/step\n",
      "Epoch 80/200\n",
      "1/1 - 0s - loss: 0.1025 - binary_accuracy: 0.8750 - 2ms/epoch - 2ms/step\n",
      "Epoch 81/200\n",
      "1/1 - 0s - loss: 0.1017 - binary_accuracy: 0.8750 - 2ms/epoch - 2ms/step\n",
      "Epoch 82/200\n",
      "1/1 - 0s - loss: 0.1009 - binary_accuracy: 0.8750 - 2ms/epoch - 2ms/step\n",
      "Epoch 83/200\n",
      "1/1 - 0s - loss: 0.1001 - binary_accuracy: 0.8750 - 2ms/epoch - 2ms/step\n",
      "Epoch 84/200\n",
      "1/1 - 0s - loss: 0.0992 - binary_accuracy: 0.8750 - 3ms/epoch - 3ms/step\n",
      "Epoch 85/200\n",
      "1/1 - 0s - loss: 0.0984 - binary_accuracy: 0.8750 - 2ms/epoch - 2ms/step\n",
      "Epoch 86/200\n",
      "1/1 - 0s - loss: 0.0976 - binary_accuracy: 0.8750 - 2ms/epoch - 2ms/step\n",
      "Epoch 87/200\n",
      "1/1 - 0s - loss: 0.0968 - binary_accuracy: 0.9375 - 2ms/epoch - 2ms/step\n",
      "Epoch 88/200\n",
      "1/1 - 0s - loss: 0.0960 - binary_accuracy: 0.9375 - 2ms/epoch - 2ms/step\n",
      "Epoch 89/200\n",
      "1/1 - 0s - loss: 0.0952 - binary_accuracy: 0.9375 - 2ms/epoch - 2ms/step\n",
      "Epoch 90/200\n",
      "1/1 - 0s - loss: 0.0944 - binary_accuracy: 0.9375 - 1ms/epoch - 1ms/step\n",
      "Epoch 91/200\n",
      "1/1 - 0s - loss: 0.0936 - binary_accuracy: 0.9375 - 2ms/epoch - 2ms/step\n",
      "Epoch 92/200\n",
      "1/1 - 0s - loss: 0.0927 - binary_accuracy: 0.9375 - 2ms/epoch - 2ms/step\n",
      "Epoch 93/200\n",
      "1/1 - 0s - loss: 0.0919 - binary_accuracy: 0.9375 - 2ms/epoch - 2ms/step\n",
      "Epoch 94/200\n",
      "1/1 - 0s - loss: 0.0911 - binary_accuracy: 0.9375 - 2ms/epoch - 2ms/step\n",
      "Epoch 95/200\n",
      "1/1 - 0s - loss: 0.0903 - binary_accuracy: 0.9375 - 2ms/epoch - 2ms/step\n",
      "Epoch 96/200\n",
      "1/1 - 0s - loss: 0.0895 - binary_accuracy: 0.9375 - 2ms/epoch - 2ms/step\n",
      "Epoch 97/200\n",
      "1/1 - 0s - loss: 0.0887 - binary_accuracy: 0.9375 - 3ms/epoch - 3ms/step\n",
      "Epoch 98/200\n",
      "1/1 - 0s - loss: 0.0878 - binary_accuracy: 0.9375 - 7ms/epoch - 7ms/step\n",
      "Epoch 99/200\n",
      "1/1 - 0s - loss: 0.0870 - binary_accuracy: 0.9375 - 4ms/epoch - 4ms/step\n",
      "Epoch 100/200\n",
      "1/1 - 0s - loss: 0.0862 - binary_accuracy: 0.9375 - 2ms/epoch - 2ms/step\n",
      "Epoch 101/200\n",
      "1/1 - 0s - loss: 0.0854 - binary_accuracy: 0.9375 - 2ms/epoch - 2ms/step\n",
      "Epoch 102/200\n",
      "1/1 - 0s - loss: 0.0846 - binary_accuracy: 0.9375 - 2ms/epoch - 2ms/step\n",
      "Epoch 103/200\n",
      "1/1 - 0s - loss: 0.0838 - binary_accuracy: 0.9375 - 2ms/epoch - 2ms/step\n",
      "Epoch 104/200\n",
      "1/1 - 0s - loss: 0.0829 - binary_accuracy: 0.9375 - 2ms/epoch - 2ms/step\n",
      "Epoch 105/200\n",
      "1/1 - 0s - loss: 0.0821 - binary_accuracy: 0.9375 - 2ms/epoch - 2ms/step\n",
      "Epoch 106/200\n",
      "1/1 - 0s - loss: 0.0813 - binary_accuracy: 0.9375 - 3ms/epoch - 3ms/step\n",
      "Epoch 107/200\n",
      "1/1 - 0s - loss: 0.0805 - binary_accuracy: 0.9375 - 2ms/epoch - 2ms/step\n",
      "Epoch 108/200\n",
      "1/1 - 0s - loss: 0.0797 - binary_accuracy: 1.0000 - 2ms/epoch - 2ms/step\n",
      "Epoch 109/200\n",
      "1/1 - 0s - loss: 0.0789 - binary_accuracy: 1.0000 - 2ms/epoch - 2ms/step\n",
      "Epoch 110/200\n",
      "1/1 - 0s - loss: 0.0781 - binary_accuracy: 1.0000 - 3ms/epoch - 3ms/step\n",
      "Epoch 111/200\n",
      "1/1 - 0s - loss: 0.0773 - binary_accuracy: 1.0000 - 2ms/epoch - 2ms/step\n",
      "Epoch 112/200\n",
      "1/1 - 0s - loss: 0.0765 - binary_accuracy: 1.0000 - 2ms/epoch - 2ms/step\n",
      "Epoch 113/200\n",
      "1/1 - 0s - loss: 0.0757 - binary_accuracy: 1.0000 - 3ms/epoch - 3ms/step\n",
      "Epoch 114/200\n",
      "1/1 - 0s - loss: 0.0749 - binary_accuracy: 1.0000 - 2ms/epoch - 2ms/step\n",
      "Epoch 115/200\n",
      "1/1 - 0s - loss: 0.0741 - binary_accuracy: 1.0000 - 2ms/epoch - 2ms/step\n",
      "Epoch 116/200\n",
      "1/1 - 0s - loss: 0.0734 - binary_accuracy: 1.0000 - 2ms/epoch - 2ms/step\n",
      "Epoch 117/200\n",
      "1/1 - 0s - loss: 0.0726 - binary_accuracy: 1.0000 - 3ms/epoch - 3ms/step\n",
      "Epoch 118/200\n",
      "1/1 - 0s - loss: 0.0718 - binary_accuracy: 1.0000 - 2ms/epoch - 2ms/step\n",
      "Epoch 119/200\n",
      "1/1 - 0s - loss: 0.0711 - binary_accuracy: 1.0000 - 3ms/epoch - 3ms/step\n",
      "Epoch 120/200\n",
      "1/1 - 0s - loss: 0.0703 - binary_accuracy: 1.0000 - 3ms/epoch - 3ms/step\n",
      "Epoch 121/200\n",
      "1/1 - 0s - loss: 0.0696 - binary_accuracy: 1.0000 - 3ms/epoch - 3ms/step\n",
      "Epoch 122/200\n",
      "1/1 - 0s - loss: 0.0688 - binary_accuracy: 1.0000 - 2ms/epoch - 2ms/step\n",
      "Epoch 123/200\n",
      "1/1 - 0s - loss: 0.0681 - binary_accuracy: 1.0000 - 2ms/epoch - 2ms/step\n",
      "Epoch 124/200\n",
      "1/1 - 0s - loss: 0.0674 - binary_accuracy: 1.0000 - 2ms/epoch - 2ms/step\n",
      "Epoch 125/200\n",
      "1/1 - 0s - loss: 0.0666 - binary_accuracy: 1.0000 - 3ms/epoch - 3ms/step\n",
      "Epoch 126/200\n",
      "1/1 - 0s - loss: 0.0659 - binary_accuracy: 1.0000 - 2ms/epoch - 2ms/step\n",
      "Epoch 127/200\n",
      "1/1 - 0s - loss: 0.0652 - binary_accuracy: 1.0000 - 3ms/epoch - 3ms/step\n",
      "Epoch 128/200\n",
      "1/1 - 0s - loss: 0.0645 - binary_accuracy: 1.0000 - 2ms/epoch - 2ms/step\n",
      "Epoch 129/200\n",
      "1/1 - 0s - loss: 0.0638 - binary_accuracy: 1.0000 - 2ms/epoch - 2ms/step\n",
      "Epoch 130/200\n",
      "1/1 - 0s - loss: 0.0631 - binary_accuracy: 1.0000 - 2ms/epoch - 2ms/step\n",
      "Epoch 131/200\n",
      "1/1 - 0s - loss: 0.0624 - binary_accuracy: 1.0000 - 2ms/epoch - 2ms/step\n",
      "Epoch 132/200\n",
      "1/1 - 0s - loss: 0.0618 - binary_accuracy: 1.0000 - 2ms/epoch - 2ms/step\n",
      "Epoch 133/200\n",
      "1/1 - 0s - loss: 0.0611 - binary_accuracy: 1.0000 - 2ms/epoch - 2ms/step\n",
      "Epoch 134/200\n",
      "1/1 - 0s - loss: 0.0604 - binary_accuracy: 1.0000 - 2ms/epoch - 2ms/step\n",
      "Epoch 135/200\n",
      "1/1 - 0s - loss: 0.0598 - binary_accuracy: 1.0000 - 2ms/epoch - 2ms/step\n",
      "Epoch 136/200\n",
      "1/1 - 0s - loss: 0.0591 - binary_accuracy: 1.0000 - 3ms/epoch - 3ms/step\n",
      "Epoch 137/200\n",
      "1/1 - 0s - loss: 0.0585 - binary_accuracy: 1.0000 - 2ms/epoch - 2ms/step\n",
      "Epoch 138/200\n",
      "1/1 - 0s - loss: 0.0579 - binary_accuracy: 1.0000 - 2ms/epoch - 2ms/step\n",
      "Epoch 139/200\n",
      "1/1 - 0s - loss: 0.0572 - binary_accuracy: 1.0000 - 2ms/epoch - 2ms/step\n",
      "Epoch 140/200\n",
      "1/1 - 0s - loss: 0.0566 - binary_accuracy: 1.0000 - 2ms/epoch - 2ms/step\n",
      "Epoch 141/200\n",
      "1/1 - 0s - loss: 0.0560 - binary_accuracy: 1.0000 - 2ms/epoch - 2ms/step\n",
      "Epoch 142/200\n",
      "1/1 - 0s - loss: 0.0554 - binary_accuracy: 1.0000 - 2ms/epoch - 2ms/step\n",
      "Epoch 143/200\n",
      "1/1 - 0s - loss: 0.0548 - binary_accuracy: 1.0000 - 2ms/epoch - 2ms/step\n",
      "Epoch 144/200\n",
      "1/1 - 0s - loss: 0.0542 - binary_accuracy: 1.0000 - 2ms/epoch - 2ms/step\n",
      "Epoch 145/200\n",
      "1/1 - 0s - loss: 0.0536 - binary_accuracy: 1.0000 - 2ms/epoch - 2ms/step\n",
      "Epoch 146/200\n",
      "1/1 - 0s - loss: 0.0530 - binary_accuracy: 1.0000 - 2ms/epoch - 2ms/step\n",
      "Epoch 147/200\n",
      "1/1 - 0s - loss: 0.0524 - binary_accuracy: 1.0000 - 2ms/epoch - 2ms/step\n",
      "Epoch 148/200\n",
      "1/1 - 0s - loss: 0.0519 - binary_accuracy: 1.0000 - 2ms/epoch - 2ms/step\n",
      "Epoch 149/200\n",
      "1/1 - 0s - loss: 0.0513 - binary_accuracy: 1.0000 - 2ms/epoch - 2ms/step\n",
      "Epoch 150/200\n",
      "1/1 - 0s - loss: 0.0507 - binary_accuracy: 1.0000 - 2ms/epoch - 2ms/step\n",
      "Epoch 151/200\n",
      "1/1 - 0s - loss: 0.0502 - binary_accuracy: 1.0000 - 2ms/epoch - 2ms/step\n",
      "Epoch 152/200\n",
      "1/1 - 0s - loss: 0.0496 - binary_accuracy: 1.0000 - 3ms/epoch - 3ms/step\n",
      "Epoch 153/200\n",
      "1/1 - 0s - loss: 0.0491 - binary_accuracy: 1.0000 - 3ms/epoch - 3ms/step\n",
      "Epoch 154/200\n",
      "1/1 - 0s - loss: 0.0485 - binary_accuracy: 1.0000 - 3ms/epoch - 3ms/step\n",
      "Epoch 155/200\n",
      "1/1 - 0s - loss: 0.0480 - binary_accuracy: 1.0000 - 3ms/epoch - 3ms/step\n",
      "Epoch 156/200\n",
      "1/1 - 0s - loss: 0.0475 - binary_accuracy: 1.0000 - 2ms/epoch - 2ms/step\n",
      "Epoch 157/200\n",
      "1/1 - 0s - loss: 0.0470 - binary_accuracy: 1.0000 - 2ms/epoch - 2ms/step\n",
      "Epoch 158/200\n",
      "1/1 - 0s - loss: 0.0464 - binary_accuracy: 1.0000 - 3ms/epoch - 3ms/step\n",
      "Epoch 159/200\n",
      "1/1 - 0s - loss: 0.0459 - binary_accuracy: 1.0000 - 2ms/epoch - 2ms/step\n",
      "Epoch 160/200\n",
      "1/1 - 0s - loss: 0.0454 - binary_accuracy: 1.0000 - 2ms/epoch - 2ms/step\n",
      "Epoch 161/200\n",
      "1/1 - 0s - loss: 0.0449 - binary_accuracy: 1.0000 - 3ms/epoch - 3ms/step\n",
      "Epoch 162/200\n",
      "1/1 - 0s - loss: 0.0444 - binary_accuracy: 1.0000 - 2ms/epoch - 2ms/step\n",
      "Epoch 163/200\n",
      "1/1 - 0s - loss: 0.0439 - binary_accuracy: 1.0000 - 2ms/epoch - 2ms/step\n",
      "Epoch 164/200\n",
      "1/1 - 0s - loss: 0.0434 - binary_accuracy: 1.0000 - 2ms/epoch - 2ms/step\n",
      "Epoch 165/200\n",
      "1/1 - 0s - loss: 0.0430 - binary_accuracy: 1.0000 - 2ms/epoch - 2ms/step\n",
      "Epoch 166/200\n",
      "1/1 - 0s - loss: 0.0425 - binary_accuracy: 1.0000 - 2ms/epoch - 2ms/step\n",
      "Epoch 167/200\n",
      "1/1 - 0s - loss: 0.0420 - binary_accuracy: 1.0000 - 2ms/epoch - 2ms/step\n",
      "Epoch 168/200\n",
      "1/1 - 0s - loss: 0.0415 - binary_accuracy: 1.0000 - 2ms/epoch - 2ms/step\n",
      "Epoch 169/200\n",
      "1/1 - 0s - loss: 0.0411 - binary_accuracy: 1.0000 - 2ms/epoch - 2ms/step\n",
      "Epoch 170/200\n",
      "1/1 - 0s - loss: 0.0406 - binary_accuracy: 1.0000 - 2ms/epoch - 2ms/step\n",
      "Epoch 171/200\n",
      "1/1 - 0s - loss: 0.0402 - binary_accuracy: 1.0000 - 2ms/epoch - 2ms/step\n",
      "Epoch 172/200\n",
      "1/1 - 0s - loss: 0.0397 - binary_accuracy: 1.0000 - 5ms/epoch - 5ms/step\n",
      "Epoch 173/200\n",
      "1/1 - 0s - loss: 0.0393 - binary_accuracy: 1.0000 - 3ms/epoch - 3ms/step\n",
      "Epoch 174/200\n",
      "1/1 - 0s - loss: 0.0388 - binary_accuracy: 1.0000 - 3ms/epoch - 3ms/step\n",
      "Epoch 175/200\n",
      "1/1 - 0s - loss: 0.0384 - binary_accuracy: 1.0000 - 2ms/epoch - 2ms/step\n",
      "Epoch 176/200\n",
      "1/1 - 0s - loss: 0.0380 - binary_accuracy: 1.0000 - 2ms/epoch - 2ms/step\n",
      "Epoch 177/200\n",
      "1/1 - 0s - loss: 0.0375 - binary_accuracy: 1.0000 - 2ms/epoch - 2ms/step\n",
      "Epoch 178/200\n",
      "1/1 - 0s - loss: 0.0371 - binary_accuracy: 1.0000 - 2ms/epoch - 2ms/step\n",
      "Epoch 179/200\n",
      "1/1 - 0s - loss: 0.0367 - binary_accuracy: 1.0000 - 2ms/epoch - 2ms/step\n",
      "Epoch 180/200\n",
      "1/1 - 0s - loss: 0.0363 - binary_accuracy: 1.0000 - 2ms/epoch - 2ms/step\n",
      "Epoch 181/200\n",
      "1/1 - 0s - loss: 0.0359 - binary_accuracy: 1.0000 - 2ms/epoch - 2ms/step\n",
      "Epoch 182/200\n",
      "1/1 - 0s - loss: 0.0355 - binary_accuracy: 1.0000 - 2ms/epoch - 2ms/step\n",
      "Epoch 183/200\n",
      "1/1 - 0s - loss: 0.0351 - binary_accuracy: 1.0000 - 3ms/epoch - 3ms/step\n",
      "Epoch 184/200\n",
      "1/1 - 0s - loss: 0.0347 - binary_accuracy: 1.0000 - 2ms/epoch - 2ms/step\n",
      "Epoch 185/200\n",
      "1/1 - 0s - loss: 0.0343 - binary_accuracy: 1.0000 - 3ms/epoch - 3ms/step\n",
      "Epoch 186/200\n",
      "1/1 - 0s - loss: 0.0339 - binary_accuracy: 1.0000 - 4ms/epoch - 4ms/step\n",
      "Epoch 187/200\n",
      "1/1 - 0s - loss: 0.0335 - binary_accuracy: 1.0000 - 2ms/epoch - 2ms/step\n",
      "Epoch 188/200\n",
      "1/1 - 0s - loss: 0.0332 - binary_accuracy: 1.0000 - 2ms/epoch - 2ms/step\n",
      "Epoch 189/200\n",
      "1/1 - 0s - loss: 0.0328 - binary_accuracy: 1.0000 - 3ms/epoch - 3ms/step\n",
      "Epoch 190/200\n",
      "1/1 - 0s - loss: 0.0324 - binary_accuracy: 1.0000 - 2ms/epoch - 2ms/step\n",
      "Epoch 191/200\n",
      "1/1 - 0s - loss: 0.0320 - binary_accuracy: 1.0000 - 2ms/epoch - 2ms/step\n",
      "Epoch 192/200\n",
      "1/1 - 0s - loss: 0.0317 - binary_accuracy: 1.0000 - 2ms/epoch - 2ms/step\n",
      "Epoch 193/200\n",
      "1/1 - 0s - loss: 0.0313 - binary_accuracy: 1.0000 - 3ms/epoch - 3ms/step\n",
      "Epoch 194/200\n",
      "1/1 - 0s - loss: 0.0310 - binary_accuracy: 1.0000 - 2ms/epoch - 2ms/step\n",
      "Epoch 195/200\n",
      "1/1 - 0s - loss: 0.0306 - binary_accuracy: 1.0000 - 2ms/epoch - 2ms/step\n",
      "Epoch 196/200\n",
      "1/1 - 0s - loss: 0.0303 - binary_accuracy: 1.0000 - 2ms/epoch - 2ms/step\n",
      "Epoch 197/200\n",
      "1/1 - 0s - loss: 0.0300 - binary_accuracy: 1.0000 - 2ms/epoch - 2ms/step\n",
      "Epoch 198/200\n",
      "1/1 - 0s - loss: 0.0296 - binary_accuracy: 1.0000 - 2ms/epoch - 2ms/step\n",
      "Epoch 199/200\n",
      "1/1 - 0s - loss: 0.0293 - binary_accuracy: 1.0000 - 2ms/epoch - 2ms/step\n",
      "Epoch 200/200\n",
      "1/1 - 0s - loss: 0.0290 - binary_accuracy: 1.0000 - 2ms/epoch - 2ms/step\n"
     ]
    }
   ],
   "source": [
    "history = model.fit(training_data, target_data, epochs=200, verbose=2)"
   ]
  },
  {
   "cell_type": "markdown",
   "metadata": {},
   "source": [
    "### Predicting Results"
   ]
  },
  {
   "cell_type": "code",
   "execution_count": 9,
   "metadata": {},
   "outputs": [
    {
     "name": "stdout",
     "output_type": "stream",
     "text": [
      "[['1.0' '1.0' '0.0' '0.0' '1.0' '0.0' '0.0' '1.0' '0.0' '0.0' '1.0' '0.0'\n",
      "  '1']\n",
      " ['1.0' '1.0' '1.0' '0.0' '1.0' '0.0' '0.0' '1.0' '0.0' '0.0' '1.0' '0.0'\n",
      "  'T']\n",
      " ['1.0' '0.0' '0.0' '1.0' '0.0' '0.0' '1.0' '0.0' '0.0' '1.0' '1.0' '1.0'\n",
      "  'L']\n",
      " ['1.0' '1.0' '1.0' '1.0' '0.0' '1.0' '1.0' '0.0' '1.0' '1.0' '1.0' '1.0'\n",
      "  '0']]\n"
     ]
    }
   ],
   "source": [
    "output_data = model.predict(training_data).round()\n",
    "td = np.array(training_data)\n",
    "arr = decode(output_data, backup)\n",
    "arr = np.array(arr)\n",
    "arr.reshape((4, 1))\n",
    "arr = np.block([td, arr])\n",
    "print(arr)\n"
   ]
  },
  {
   "cell_type": "code",
   "execution_count": 10,
   "metadata": {},
   "outputs": [
    {
     "data": {
      "text/plain": [
       "1.0"
      ]
     },
     "execution_count": 10,
     "metadata": {},
     "output_type": "execute_result"
    }
   ],
   "source": [
    "from sklearn.metrics import r2_score\n",
    "r2_score(target_data, output_data)"
   ]
  },
  {
   "cell_type": "code",
   "execution_count": 11,
   "metadata": {},
   "outputs": [],
   "source": [
    "loss_curve = history.history[\"loss\"]\n",
    "acc_curve = history.history[\"binary_accuracy\"]"
   ]
  },
  {
   "cell_type": "code",
   "execution_count": 12,
   "metadata": {},
   "outputs": [
    {
     "data": {
      "image/png": "[encoded data removed]",
      "text/plain": [
       "<Figure size 432x288 with 1 Axes>"
      ]
     },
     "metadata": {
      "needs_background": "light"
     },
     "output_type": "display_data"
    }
   ],
   "source": [
    "plt.plot(loss_curve, label='Train')\n",
    "plt.title('Loss Curve')\n",
    "plt.show()"
   ]
  },
  {
   "cell_type": "code",
   "execution_count": 13,
   "metadata": {},
   "outputs": [
    {
     "data": {
      "image/png": "[encoded data removed]",
      "text/plain": [
       "<Figure size 432x288 with 1 Axes>"
      ]
     },
     "metadata": {
      "needs_background": "light"
     },
     "output_type": "display_data"
    }
   ],
   "source": [
    "plt.plot(acc_curve, label='Train')\n",
    "plt.title('Accuracy')\n",
    "plt.show()"
   ]
  },
  {
   "cell_type": "markdown",
   "metadata": {},
   "source": [
    "# Weights and biases from all the layers"
   ]
  },
  {
   "cell_type": "markdown",
   "metadata": {},
   "source": [
    "### Layer 0"
   ]
  },
  {
   "cell_type": "code",
   "execution_count": 14,
   "metadata": {},
   "outputs": [
    {
     "name": "stderr",
     "output_type": "stream",
     "text": [
      "<ipython-input-14-1339a590c593>:1: VisibleDeprecationWarning: Creating an ndarray from ragged nested sequences (which is a list-or-tuple of lists-or-tuples-or ndarrays with different lengths or shapes) is deprecated. If you meant to do this, you must specify 'dtype=object' when creating the ndarray.\n",
      "  np.array(model.layers[0].weights)\n"
     ]
    },
    {
     "data": {
      "text/plain": [
       "array([<tf.Variable 'dense/kernel:0' shape=(12, 8) dtype=float32, numpy=\n",
       "       array([[-0.11153377,  0.07942592, -0.38426244,  0.16217227, -0.0200244 ,\n",
       "               -0.33820793,  0.8314307 , -0.03395049],\n",
       "              [-0.14635146,  0.10140324,  0.36809516, -0.72540325,  0.2873913 ,\n",
       "               -0.7707429 , -0.130976  , -1.1454428 ],\n",
       "              [-2.265692  , -0.43198538,  2.0375588 , -1.1911726 ,  2.109787  ,\n",
       "                0.5824576 , -0.71631736, -1.9784982 ],\n",
       "              [ 0.4618968 , -0.27594733, -0.64904153,  0.46436822, -0.32660693,\n",
       "                0.6450036 , -0.97622883,  0.64991033],\n",
       "              [-0.05715855, -0.5630634 , -0.02579928, -0.8811992 , -0.4500754 ,\n",
       "               -0.46777484,  0.3545969 , -0.92196816],\n",
       "              [-1.2803224 ,  0.5203795 ,  0.97975564,  1.4474124 ,  1.1606885 ,\n",
       "                0.51101863, -1.1228125 , -1.4895883 ],\n",
       "              [ 0.6887695 ,  0.20092338, -0.06358247,  1.0882657 , -0.62482166,\n",
       "                1.2043755 , -0.26003966,  0.44001514],\n",
       "              [ 0.45035663, -0.84042555, -0.15978342, -1.0192336 ,  0.20619062,\n",
       "               -1.1425241 ,  1.1560584 , -0.38902315],\n",
       "              [-1.8709444 ,  0.2506286 ,  1.0375727 ,  0.90642816,  1.2444401 ,\n",
       "                0.76481116, -1.6214404 , -0.556121  ],\n",
       "              [ 0.4934024 , -0.14948508,  0.1779458 ,  0.33766347, -0.1433892 ,\n",
       "                0.9829202 , -0.5992235 ,  0.5821508 ],\n",
       "              [ 0.6371567 , -0.7341128 , -0.5641392 ,  0.47354218, -0.14053816,\n",
       "               -0.28843343,  1.1861525 , -0.36941653],\n",
       "              [ 0.2661    ,  0.01727459,  0.37007752,  0.44661358, -0.89766055,\n",
       "                0.9504466 , -0.76220876,  1.1297668 ]], dtype=float32)>        ,\n",
       "       <tf.Variable 'dense/bias:0' shape=(8,) dtype=float32, numpy=\n",
       "       array([ 0.35347465, -0.2654376 , -0.0691166 ,  0.39563668, -0.49643543,\n",
       "              -0.43692923,  0.80318886,  0.11782648], dtype=float32)>         ],\n",
       "      dtype=object)"
      ]
     },
     "execution_count": 14,
     "metadata": {},
     "output_type": "execute_result"
    }
   ],
   "source": [
    "np.array(model.layers[0].weights)"
   ]
  },
  {
   "cell_type": "code",
   "execution_count": 15,
   "metadata": {},
   "outputs": [
    {
     "data": {
      "text/plain": [
       "array([ 0.35347465, -0.2654376 , -0.0691166 ,  0.39563668, -0.49643543,\n",
       "       -0.43692923,  0.80318886,  0.11782648], dtype=float32)"
      ]
     },
     "execution_count": 15,
     "metadata": {},
     "output_type": "execute_result"
    }
   ],
   "source": [
    "model.layers[0].bias.numpy()"
   ]
  },
  {
   "cell_type": "markdown",
   "metadata": {},
   "source": [
    "### Layer 1"
   ]
  },
  {
   "cell_type": "code",
   "execution_count": 16,
   "metadata": {},
   "outputs": [
    {
     "data": {
      "text/plain": [
       "[<tf.Variable 'dense_1/kernel:0' shape=(8, 4) dtype=float32, numpy=\n",
       " array([[-1.0617248 ,  1.3915306 ,  1.0198866 , -2.497033  ],\n",
       "        [ 0.37552378,  0.41910458,  0.309317  ,  0.09016163],\n",
       "        [ 0.25321054, -1.5844562 , -1.5087634 ,  0.21370277],\n",
       "        [ 0.5781714 , -0.8016348 ,  0.319122  , -2.2202477 ],\n",
       "        [ 0.61160374, -0.45431486, -1.7326204 ,  1.6850389 ],\n",
       "        [ 0.8895875 , -1.4270129 ,  0.69286484, -1.3953221 ],\n",
       "        [-1.6144841 ,  0.75068593, -0.9647244 ,  0.599209  ],\n",
       "        [-0.95212936, -1.0623331 ,  1.6446483 , -1.4673461 ]],\n",
       "       dtype=float32)>,\n",
       " <tf.Variable 'dense_1/bias:0' shape=(4,) dtype=float32, numpy=array([-0.64067215, -0.23536663, -0.61046463, -0.13536254], dtype=float32)>]"
      ]
     },
     "execution_count": 16,
     "metadata": {},
     "output_type": "execute_result"
    }
   ],
   "source": [
    "model.layers[1].weights"
   ]
  },
  {
   "cell_type": "code",
   "execution_count": 17,
   "metadata": {},
   "outputs": [
    {
     "data": {
      "text/plain": [
       "array([-0.64067215, -0.23536663, -0.61046463, -0.13536254], dtype=float32)"
      ]
     },
     "execution_count": 17,
     "metadata": {},
     "output_type": "execute_result"
    }
   ],
   "source": [
    "model.layers[1].bias.numpy()"
   ]
  }
 ],
 "metadata": {
  "interpreter": {
   "hash": "f1cb89368905b50385fa58d02ffabcfd1473490d540b027c7d5535f7d17dbec7"
  },
  "kernelspec": {
   "display_name": "Python 3.8.10 64-bit ('init': venv)",
   "language": "python",
   "name": "python3"
  },
  "language_info": {
   "codemirror_mode": {
    "name": "ipython",
    "version": 3
   },
   "file_extension": ".py",
   "mimetype": "text/x-python",
   "name": "python",
   "nbconvert_exporter": "python",
   "pygments_lexer": "ipython3",
   "version": "3.8.10"
  },
  "orig_nbformat": 4
 },
 "nbformat": 4,
 "nbformat_minor": 2
}
