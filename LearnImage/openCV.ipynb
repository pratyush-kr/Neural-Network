{
 "cells": [
  {
   "cell_type": "code",
   "execution_count": 1,
   "metadata": {},
   "outputs": [],
   "source": [
    "import pandas as pd\n",
    "import tensorflow as tf\n",
    "from tensorflow import keras\n",
    "import numpy as np\n",
    "import matplotlib.pyplot as plt\n",
    "from sklearn.model_selection import train_test_split\n",
    "from sklearn.preprocessing import OneHotEncoder, LabelEncoder"
   ]
  },
  {
   "cell_type": "markdown",
   "metadata": {},
   "source": [
    "Importing dataset"
   ]
  },
  {
   "cell_type": "code",
   "execution_count": 2,
   "metadata": {},
   "outputs": [],
   "source": [
    "dataset = pd.read_csv('Churn_Modelling.csv')\n",
    "x = dataset.iloc[:, 3:-1].values\n",
    "y = dataset.iloc[:, -1].values"
   ]
  },
  {
   "cell_type": "code",
   "execution_count": 3,
   "metadata": {},
   "outputs": [
    {
     "name": "stdout",
     "output_type": "stream",
     "text": [
      "[[619 'France' 'Female' ... 1 1 101348.88]\n",
      " [608 'Spain' 'Female' ... 0 1 112542.58]\n",
      " [502 'France' 'Female' ... 1 0 113931.57]\n",
      " ...\n",
      " [709 'France' 'Female' ... 0 1 42085.58]\n",
      " [772 'Germany' 'Male' ... 1 0 92888.52]\n",
      " [792 'France' 'Female' ... 1 0 38190.78]]\n"
     ]
    }
   ],
   "source": [
    "print(x)"
   ]
  },
  {
   "cell_type": "code",
   "execution_count": 4,
   "metadata": {},
   "outputs": [
    {
     "name": "stdout",
     "output_type": "stream",
     "text": [
      "[1 0 1 ... 1 1 0]\n"
     ]
    }
   ],
   "source": [
    "print(y)"
   ]
  },
  {
   "cell_type": "markdown",
   "metadata": {},
   "source": [
    "Preprocessing"
   ]
  },
  {
   "cell_type": "code",
   "execution_count": 5,
   "metadata": {},
   "outputs": [
    {
     "name": "stdout",
     "output_type": "stream",
     "text": [
      "(10000, 12)\n"
     ]
    }
   ],
   "source": [
    "from sklearn.compose import ColumnTransformer\n",
    "lencoder = LabelEncoder()\n",
    "x[:, 2] = lencoder.fit_transform(x[:, 2])\n",
    "oencoder = OneHotEncoder()\n",
    "ct = ColumnTransformer(transformers=[('encoder', OneHotEncoder(), [1])], remainder='passthrough')\n",
    "x = np.array(ct.fit_transform(x))\n",
    "print(x.shape)"
   ]
  },
  {
   "cell_type": "code",
   "execution_count": 6,
   "metadata": {},
   "outputs": [],
   "source": [
    "x_train, x_test, y_train, y_test = train_test_split(x, y, test_size=0.2, random_state=0)"
   ]
  },
  {
   "cell_type": "code",
   "execution_count": 7,
   "metadata": {},
   "outputs": [],
   "source": [
    "from sklearn.preprocessing import  StandardScaler\n",
    "sc = StandardScaler()\n",
    "x_train = sc.fit_transform(x_train)\n",
    "x_test = sc.fit_transform(x_test)"
   ]
  },
  {
   "cell_type": "code",
   "execution_count": 8,
   "metadata": {},
   "outputs": [],
   "source": [
    "model = tf.keras.models.Sequential()\n",
    "model.add(tf.keras.layers.Dense(20, activation='sigmoid'))\n",
    "model.add(tf.keras.layers.Dense(20, activation='sigmoid'))\n",
    "model.add(tf.keras.layers.Dense(1, activation='sigmoid'))\n",
    "model.compile(optimizer=tf.keras.optimizers.Adam(learning_rate=0.01), loss='mean_squared_error', metrics=['accuracy'])"
   ]
  },
  {
   "cell_type": "code",
   "execution_count": 9,
   "metadata": {},
   "outputs": [
    {
     "name": "stdout",
     "output_type": "stream",
     "text": [
      "Epoch 1/200\n",
      "250/250 - 1s - loss: 0.1529 - accuracy: 0.7885 - 676ms/epoch - 3ms/step\n",
      "Epoch 2/200\n",
      "250/250 - 0s - loss: 0.1306 - accuracy: 0.8269 - 340ms/epoch - 1ms/step\n",
      "Epoch 3/200\n",
      "250/250 - 0s - loss: 0.1273 - accuracy: 0.8334 - 336ms/epoch - 1ms/step\n",
      "Epoch 4/200\n",
      "250/250 - 0s - loss: 0.1265 - accuracy: 0.8342 - 331ms/epoch - 1ms/step\n",
      "Epoch 5/200\n",
      "250/250 - 0s - loss: 0.1251 - accuracy: 0.8359 - 332ms/epoch - 1ms/step\n",
      "Epoch 6/200\n",
      "250/250 - 0s - loss: 0.1218 - accuracy: 0.8390 - 323ms/epoch - 1ms/step\n",
      "Epoch 7/200\n",
      "250/250 - 0s - loss: 0.1122 - accuracy: 0.8551 - 323ms/epoch - 1ms/step\n",
      "Epoch 8/200\n",
      "250/250 - 0s - loss: 0.1078 - accuracy: 0.8591 - 327ms/epoch - 1ms/step\n",
      "Epoch 9/200\n",
      "250/250 - 0s - loss: 0.1058 - accuracy: 0.8574 - 332ms/epoch - 1ms/step\n",
      "Epoch 10/200\n",
      "250/250 - 0s - loss: 0.1046 - accuracy: 0.8601 - 346ms/epoch - 1ms/step\n",
      "Epoch 11/200\n",
      "250/250 - 0s - loss: 0.1040 - accuracy: 0.8633 - 330ms/epoch - 1ms/step\n",
      "Epoch 12/200\n",
      "250/250 - 0s - loss: 0.1031 - accuracy: 0.8629 - 341ms/epoch - 1ms/step\n",
      "Epoch 13/200\n",
      "250/250 - 0s - loss: 0.1023 - accuracy: 0.8625 - 322ms/epoch - 1ms/step\n",
      "Epoch 14/200\n",
      "250/250 - 0s - loss: 0.1019 - accuracy: 0.8641 - 353ms/epoch - 1ms/step\n",
      "Epoch 15/200\n",
      "250/250 - 0s - loss: 0.1012 - accuracy: 0.8659 - 328ms/epoch - 1ms/step\n",
      "Epoch 16/200\n",
      "250/250 - 0s - loss: 0.1006 - accuracy: 0.8677 - 372ms/epoch - 1ms/step\n",
      "Epoch 17/200\n",
      "250/250 - 0s - loss: 0.1007 - accuracy: 0.8666 - 281ms/epoch - 1ms/step\n",
      "Epoch 18/200\n",
      "250/250 - 0s - loss: 0.1003 - accuracy: 0.8674 - 301ms/epoch - 1ms/step\n",
      "Epoch 19/200\n",
      "250/250 - 0s - loss: 0.0996 - accuracy: 0.8694 - 322ms/epoch - 1ms/step\n",
      "Epoch 20/200\n",
      "250/250 - 0s - loss: 0.0999 - accuracy: 0.8686 - 317ms/epoch - 1ms/step\n",
      "Epoch 21/200\n",
      "250/250 - 0s - loss: 0.0992 - accuracy: 0.8690 - 303ms/epoch - 1ms/step\n",
      "Epoch 22/200\n",
      "250/250 - 0s - loss: 0.0992 - accuracy: 0.8696 - 310ms/epoch - 1ms/step\n",
      "Epoch 23/200\n",
      "250/250 - 0s - loss: 0.0987 - accuracy: 0.8714 - 314ms/epoch - 1ms/step\n",
      "Epoch 24/200\n",
      "250/250 - 0s - loss: 0.0994 - accuracy: 0.8701 - 314ms/epoch - 1ms/step\n",
      "Epoch 25/200\n",
      "250/250 - 0s - loss: 0.0987 - accuracy: 0.8694 - 312ms/epoch - 1ms/step\n",
      "Epoch 26/200\n",
      "250/250 - 0s - loss: 0.0984 - accuracy: 0.8708 - 307ms/epoch - 1ms/step\n",
      "Epoch 27/200\n",
      "250/250 - 0s - loss: 0.0982 - accuracy: 0.8715 - 307ms/epoch - 1ms/step\n",
      "Epoch 28/200\n",
      "250/250 - 0s - loss: 0.0980 - accuracy: 0.8715 - 309ms/epoch - 1ms/step\n",
      "Epoch 29/200\n",
      "250/250 - 0s - loss: 0.0976 - accuracy: 0.8708 - 309ms/epoch - 1ms/step\n",
      "Epoch 30/200\n",
      "250/250 - 0s - loss: 0.0981 - accuracy: 0.8724 - 311ms/epoch - 1ms/step\n",
      "Epoch 31/200\n",
      "250/250 - 0s - loss: 0.0972 - accuracy: 0.8731 - 309ms/epoch - 1ms/step\n",
      "Epoch 32/200\n",
      "250/250 - 0s - loss: 0.0973 - accuracy: 0.8752 - 310ms/epoch - 1ms/step\n",
      "Epoch 33/200\n",
      "250/250 - 0s - loss: 0.0970 - accuracy: 0.8726 - 311ms/epoch - 1ms/step\n",
      "Epoch 34/200\n",
      "250/250 - 0s - loss: 0.0967 - accuracy: 0.8746 - 318ms/epoch - 1ms/step\n",
      "Epoch 35/200\n",
      "250/250 - 0s - loss: 0.0959 - accuracy: 0.8734 - 307ms/epoch - 1ms/step\n",
      "Epoch 36/200\n",
      "250/250 - 0s - loss: 0.0961 - accuracy: 0.8735 - 318ms/epoch - 1ms/step\n",
      "Epoch 37/200\n",
      "250/250 - 0s - loss: 0.0964 - accuracy: 0.8750 - 306ms/epoch - 1ms/step\n",
      "Epoch 38/200\n",
      "250/250 - 0s - loss: 0.0966 - accuracy: 0.8744 - 310ms/epoch - 1ms/step\n",
      "Epoch 39/200\n",
      "250/250 - 0s - loss: 0.0956 - accuracy: 0.8758 - 311ms/epoch - 1ms/step\n",
      "Epoch 40/200\n",
      "250/250 - 0s - loss: 0.0958 - accuracy: 0.8746 - 309ms/epoch - 1ms/step\n",
      "Epoch 41/200\n",
      "250/250 - 0s - loss: 0.0955 - accuracy: 0.8751 - 308ms/epoch - 1ms/step\n",
      "Epoch 42/200\n",
      "250/250 - 0s - loss: 0.0950 - accuracy: 0.8760 - 311ms/epoch - 1ms/step\n",
      "Epoch 43/200\n",
      "250/250 - 0s - loss: 0.0951 - accuracy: 0.8764 - 315ms/epoch - 1ms/step\n",
      "Epoch 44/200\n",
      "250/250 - 0s - loss: 0.0950 - accuracy: 0.8756 - 311ms/epoch - 1ms/step\n",
      "Epoch 45/200\n",
      "250/250 - 0s - loss: 0.0948 - accuracy: 0.8742 - 317ms/epoch - 1ms/step\n",
      "Epoch 46/200\n",
      "250/250 - 0s - loss: 0.0947 - accuracy: 0.8765 - 317ms/epoch - 1ms/step\n",
      "Epoch 47/200\n",
      "250/250 - 0s - loss: 0.0944 - accuracy: 0.8765 - 308ms/epoch - 1ms/step\n",
      "Epoch 48/200\n",
      "250/250 - 0s - loss: 0.0945 - accuracy: 0.8783 - 312ms/epoch - 1ms/step\n",
      "Epoch 49/200\n",
      "250/250 - 0s - loss: 0.0938 - accuracy: 0.8776 - 315ms/epoch - 1ms/step\n",
      "Epoch 50/200\n",
      "250/250 - 0s - loss: 0.0937 - accuracy: 0.8773 - 324ms/epoch - 1ms/step\n",
      "Epoch 51/200\n",
      "250/250 - 0s - loss: 0.0936 - accuracy: 0.8771 - 311ms/epoch - 1ms/step\n",
      "Epoch 52/200\n",
      "250/250 - 0s - loss: 0.0930 - accuracy: 0.8804 - 317ms/epoch - 1ms/step\n",
      "Epoch 53/200\n",
      "250/250 - 0s - loss: 0.0935 - accuracy: 0.8776 - 315ms/epoch - 1ms/step\n",
      "Epoch 54/200\n",
      "250/250 - 0s - loss: 0.0925 - accuracy: 0.8817 - 315ms/epoch - 1ms/step\n",
      "Epoch 55/200\n",
      "250/250 - 0s - loss: 0.0932 - accuracy: 0.8781 - 339ms/epoch - 1ms/step\n",
      "Epoch 56/200\n",
      "250/250 - 0s - loss: 0.0926 - accuracy: 0.8769 - 340ms/epoch - 1ms/step\n",
      "Epoch 57/200\n",
      "250/250 - 0s - loss: 0.0931 - accuracy: 0.8775 - 319ms/epoch - 1ms/step\n",
      "Epoch 58/200\n",
      "250/250 - 0s - loss: 0.0924 - accuracy: 0.8811 - 309ms/epoch - 1ms/step\n",
      "Epoch 59/200\n",
      "250/250 - 0s - loss: 0.0925 - accuracy: 0.8798 - 305ms/epoch - 1ms/step\n",
      "Epoch 60/200\n",
      "250/250 - 0s - loss: 0.0918 - accuracy: 0.8804 - 305ms/epoch - 1ms/step\n",
      "Epoch 61/200\n",
      "250/250 - 0s - loss: 0.0922 - accuracy: 0.8785 - 301ms/epoch - 1ms/step\n",
      "Epoch 62/200\n",
      "250/250 - 0s - loss: 0.0918 - accuracy: 0.8802 - 306ms/epoch - 1ms/step\n",
      "Epoch 63/200\n",
      "250/250 - 0s - loss: 0.0920 - accuracy: 0.8788 - 304ms/epoch - 1ms/step\n",
      "Epoch 64/200\n",
      "250/250 - 0s - loss: 0.0919 - accuracy: 0.8808 - 305ms/epoch - 1ms/step\n",
      "Epoch 65/200\n",
      "250/250 - 0s - loss: 0.0914 - accuracy: 0.8819 - 304ms/epoch - 1ms/step\n",
      "Epoch 66/200\n",
      "250/250 - 0s - loss: 0.0913 - accuracy: 0.8813 - 308ms/epoch - 1ms/step\n",
      "Epoch 67/200\n",
      "250/250 - 0s - loss: 0.0913 - accuracy: 0.8792 - 301ms/epoch - 1ms/step\n",
      "Epoch 68/200\n",
      "250/250 - 0s - loss: 0.0913 - accuracy: 0.8804 - 306ms/epoch - 1ms/step\n",
      "Epoch 69/200\n",
      "250/250 - 0s - loss: 0.0907 - accuracy: 0.8821 - 310ms/epoch - 1ms/step\n",
      "Epoch 70/200\n",
      "250/250 - 0s - loss: 0.0908 - accuracy: 0.8819 - 306ms/epoch - 1ms/step\n",
      "Epoch 71/200\n",
      "250/250 - 0s - loss: 0.0901 - accuracy: 0.8809 - 299ms/epoch - 1ms/step\n",
      "Epoch 72/200\n",
      "250/250 - 0s - loss: 0.0907 - accuracy: 0.8816 - 305ms/epoch - 1ms/step\n",
      "Epoch 73/200\n",
      "250/250 - 0s - loss: 0.0904 - accuracy: 0.8802 - 299ms/epoch - 1ms/step\n",
      "Epoch 74/200\n",
      "250/250 - 0s - loss: 0.0905 - accuracy: 0.8817 - 307ms/epoch - 1ms/step\n",
      "Epoch 75/200\n",
      "250/250 - 0s - loss: 0.0902 - accuracy: 0.8832 - 300ms/epoch - 1ms/step\n",
      "Epoch 76/200\n",
      "250/250 - 0s - loss: 0.0901 - accuracy: 0.8834 - 308ms/epoch - 1ms/step\n",
      "Epoch 77/200\n",
      "250/250 - 0s - loss: 0.0900 - accuracy: 0.8817 - 307ms/epoch - 1ms/step\n",
      "Epoch 78/200\n",
      "250/250 - 0s - loss: 0.0896 - accuracy: 0.8836 - 301ms/epoch - 1ms/step\n",
      "Epoch 79/200\n",
      "250/250 - 0s - loss: 0.0895 - accuracy: 0.8832 - 353ms/epoch - 1ms/step\n",
      "Epoch 80/200\n",
      "250/250 - 0s - loss: 0.0894 - accuracy: 0.8829 - 287ms/epoch - 1ms/step\n",
      "Epoch 81/200\n",
      "250/250 - 0s - loss: 0.0895 - accuracy: 0.8817 - 302ms/epoch - 1ms/step\n",
      "Epoch 82/200\n",
      "250/250 - 0s - loss: 0.0888 - accuracy: 0.8836 - 309ms/epoch - 1ms/step\n",
      "Epoch 83/200\n",
      "250/250 - 0s - loss: 0.0891 - accuracy: 0.8844 - 308ms/epoch - 1ms/step\n",
      "Epoch 84/200\n",
      "250/250 - 0s - loss: 0.0886 - accuracy: 0.8855 - 330ms/epoch - 1ms/step\n",
      "Epoch 85/200\n",
      "250/250 - 0s - loss: 0.0886 - accuracy: 0.8841 - 307ms/epoch - 1ms/step\n",
      "Epoch 86/200\n",
      "250/250 - 0s - loss: 0.0883 - accuracy: 0.8854 - 327ms/epoch - 1ms/step\n",
      "Epoch 87/200\n",
      "250/250 - 0s - loss: 0.0882 - accuracy: 0.8859 - 321ms/epoch - 1ms/step\n",
      "Epoch 88/200\n",
      "250/250 - 0s - loss: 0.0877 - accuracy: 0.8859 - 338ms/epoch - 1ms/step\n",
      "Epoch 89/200\n",
      "250/250 - 0s - loss: 0.0877 - accuracy: 0.8866 - 321ms/epoch - 1ms/step\n",
      "Epoch 90/200\n",
      "250/250 - 0s - loss: 0.0878 - accuracy: 0.8844 - 321ms/epoch - 1ms/step\n",
      "Epoch 91/200\n",
      "250/250 - 0s - loss: 0.0876 - accuracy: 0.8848 - 322ms/epoch - 1ms/step\n",
      "Epoch 92/200\n",
      "250/250 - 0s - loss: 0.0875 - accuracy: 0.8864 - 317ms/epoch - 1ms/step\n",
      "Epoch 93/200\n",
      "250/250 - 0s - loss: 0.0874 - accuracy: 0.8850 - 320ms/epoch - 1ms/step\n",
      "Epoch 94/200\n",
      "250/250 - 0s - loss: 0.0874 - accuracy: 0.8866 - 338ms/epoch - 1ms/step\n",
      "Epoch 95/200\n",
      "250/250 - 0s - loss: 0.0873 - accuracy: 0.8867 - 325ms/epoch - 1ms/step\n",
      "Epoch 96/200\n",
      "250/250 - 0s - loss: 0.0869 - accuracy: 0.8880 - 321ms/epoch - 1ms/step\n",
      "Epoch 97/200\n",
      "250/250 - 0s - loss: 0.0866 - accuracy: 0.8867 - 367ms/epoch - 1ms/step\n",
      "Epoch 98/200\n",
      "250/250 - 0s - loss: 0.0870 - accuracy: 0.8867 - 351ms/epoch - 1ms/step\n",
      "Epoch 99/200\n",
      "250/250 - 0s - loss: 0.0868 - accuracy: 0.8882 - 352ms/epoch - 1ms/step\n",
      "Epoch 100/200\n",
      "250/250 - 0s - loss: 0.0865 - accuracy: 0.8889 - 375ms/epoch - 2ms/step\n",
      "Epoch 101/200\n",
      "250/250 - 0s - loss: 0.0862 - accuracy: 0.8888 - 346ms/epoch - 1ms/step\n",
      "Epoch 102/200\n",
      "250/250 - 0s - loss: 0.0859 - accuracy: 0.8910 - 332ms/epoch - 1ms/step\n",
      "Epoch 103/200\n",
      "250/250 - 0s - loss: 0.0858 - accuracy: 0.8889 - 328ms/epoch - 1ms/step\n",
      "Epoch 104/200\n",
      "250/250 - 0s - loss: 0.0859 - accuracy: 0.8866 - 340ms/epoch - 1ms/step\n",
      "Epoch 105/200\n",
      "250/250 - 0s - loss: 0.0856 - accuracy: 0.8892 - 435ms/epoch - 2ms/step\n",
      "Epoch 106/200\n",
      "250/250 - 0s - loss: 0.0851 - accuracy: 0.8911 - 350ms/epoch - 1ms/step\n",
      "Epoch 107/200\n",
      "250/250 - 0s - loss: 0.0854 - accuracy: 0.8882 - 333ms/epoch - 1ms/step\n",
      "Epoch 108/200\n",
      "250/250 - 0s - loss: 0.0852 - accuracy: 0.8896 - 331ms/epoch - 1ms/step\n",
      "Epoch 109/200\n",
      "250/250 - 0s - loss: 0.0850 - accuracy: 0.8895 - 333ms/epoch - 1ms/step\n",
      "Epoch 110/200\n",
      "250/250 - 0s - loss: 0.0854 - accuracy: 0.8878 - 353ms/epoch - 1ms/step\n",
      "Epoch 111/200\n",
      "250/250 - 0s - loss: 0.0852 - accuracy: 0.8905 - 337ms/epoch - 1ms/step\n",
      "Epoch 112/200\n",
      "250/250 - 0s - loss: 0.0843 - accuracy: 0.8911 - 332ms/epoch - 1ms/step\n",
      "Epoch 113/200\n",
      "250/250 - 0s - loss: 0.0847 - accuracy: 0.8888 - 337ms/epoch - 1ms/step\n",
      "Epoch 114/200\n",
      "250/250 - 0s - loss: 0.0846 - accuracy: 0.8894 - 332ms/epoch - 1ms/step\n",
      "Epoch 115/200\n",
      "250/250 - 0s - loss: 0.0845 - accuracy: 0.8916 - 330ms/epoch - 1ms/step\n",
      "Epoch 116/200\n",
      "250/250 - 0s - loss: 0.0844 - accuracy: 0.8907 - 331ms/epoch - 1ms/step\n",
      "Epoch 117/200\n",
      "250/250 - 0s - loss: 0.0840 - accuracy: 0.8926 - 329ms/epoch - 1ms/step\n",
      "Epoch 118/200\n",
      "250/250 - 0s - loss: 0.0841 - accuracy: 0.8913 - 326ms/epoch - 1ms/step\n",
      "Epoch 119/200\n",
      "250/250 - 0s - loss: 0.0838 - accuracy: 0.8906 - 333ms/epoch - 1ms/step\n",
      "Epoch 120/200\n",
      "250/250 - 0s - loss: 0.0839 - accuracy: 0.8913 - 330ms/epoch - 1ms/step\n",
      "Epoch 121/200\n",
      "250/250 - 0s - loss: 0.0840 - accuracy: 0.8923 - 333ms/epoch - 1ms/step\n",
      "Epoch 122/200\n",
      "250/250 - 0s - loss: 0.0837 - accuracy: 0.8915 - 332ms/epoch - 1ms/step\n",
      "Epoch 123/200\n",
      "250/250 - 0s - loss: 0.0836 - accuracy: 0.8920 - 327ms/epoch - 1ms/step\n",
      "Epoch 124/200\n",
      "250/250 - 0s - loss: 0.0828 - accuracy: 0.8949 - 329ms/epoch - 1ms/step\n",
      "Epoch 125/200\n",
      "250/250 - 0s - loss: 0.0832 - accuracy: 0.8923 - 339ms/epoch - 1ms/step\n",
      "Epoch 126/200\n",
      "250/250 - 0s - loss: 0.0830 - accuracy: 0.8934 - 330ms/epoch - 1ms/step\n",
      "Epoch 127/200\n",
      "250/250 - 0s - loss: 0.0831 - accuracy: 0.8919 - 334ms/epoch - 1ms/step\n",
      "Epoch 128/200\n",
      "250/250 - 0s - loss: 0.0828 - accuracy: 0.8932 - 330ms/epoch - 1ms/step\n",
      "Epoch 129/200\n",
      "250/250 - 0s - loss: 0.0830 - accuracy: 0.8925 - 329ms/epoch - 1ms/step\n",
      "Epoch 130/200\n",
      "250/250 - 0s - loss: 0.0830 - accuracy: 0.8928 - 334ms/epoch - 1ms/step\n",
      "Epoch 131/200\n",
      "250/250 - 0s - loss: 0.0828 - accuracy: 0.8932 - 333ms/epoch - 1ms/step\n",
      "Epoch 132/200\n",
      "250/250 - 0s - loss: 0.0824 - accuracy: 0.8934 - 334ms/epoch - 1ms/step\n",
      "Epoch 133/200\n",
      "250/250 - 0s - loss: 0.0830 - accuracy: 0.8949 - 332ms/epoch - 1ms/step\n",
      "Epoch 134/200\n",
      "250/250 - 0s - loss: 0.0820 - accuracy: 0.8949 - 330ms/epoch - 1ms/step\n",
      "Epoch 135/200\n",
      "250/250 - 0s - loss: 0.0826 - accuracy: 0.8919 - 334ms/epoch - 1ms/step\n",
      "Epoch 136/200\n",
      "250/250 - 0s - loss: 0.0819 - accuracy: 0.8951 - 326ms/epoch - 1ms/step\n",
      "Epoch 137/200\n",
      "250/250 - 0s - loss: 0.0822 - accuracy: 0.8938 - 330ms/epoch - 1ms/step\n",
      "Epoch 138/200\n",
      "250/250 - 0s - loss: 0.0817 - accuracy: 0.8965 - 333ms/epoch - 1ms/step\n",
      "Epoch 139/200\n",
      "250/250 - 0s - loss: 0.0823 - accuracy: 0.8930 - 332ms/epoch - 1ms/step\n",
      "Epoch 140/200\n",
      "250/250 - 0s - loss: 0.0820 - accuracy: 0.8950 - 339ms/epoch - 1ms/step\n",
      "Epoch 141/200\n",
      "250/250 - 0s - loss: 0.0815 - accuracy: 0.8970 - 330ms/epoch - 1ms/step\n",
      "Epoch 142/200\n",
      "250/250 - 0s - loss: 0.0821 - accuracy: 0.8938 - 335ms/epoch - 1ms/step\n",
      "Epoch 143/200\n",
      "250/250 - 0s - loss: 0.0812 - accuracy: 0.8965 - 338ms/epoch - 1ms/step\n",
      "Epoch 144/200\n",
      "250/250 - 0s - loss: 0.0813 - accuracy: 0.8944 - 330ms/epoch - 1ms/step\n",
      "Epoch 145/200\n",
      "250/250 - 0s - loss: 0.0813 - accuracy: 0.8946 - 338ms/epoch - 1ms/step\n",
      "Epoch 146/200\n",
      "250/250 - 0s - loss: 0.0812 - accuracy: 0.8956 - 331ms/epoch - 1ms/step\n",
      "Epoch 147/200\n",
      "250/250 - 0s - loss: 0.0812 - accuracy: 0.8956 - 327ms/epoch - 1ms/step\n",
      "Epoch 148/200\n",
      "250/250 - 0s - loss: 0.0814 - accuracy: 0.8969 - 334ms/epoch - 1ms/step\n",
      "Epoch 149/200\n",
      "250/250 - 0s - loss: 0.0811 - accuracy: 0.8939 - 332ms/epoch - 1ms/step\n",
      "Epoch 150/200\n",
      "250/250 - 0s - loss: 0.0806 - accuracy: 0.8964 - 332ms/epoch - 1ms/step\n",
      "Epoch 151/200\n",
      "250/250 - 0s - loss: 0.0809 - accuracy: 0.8972 - 335ms/epoch - 1ms/step\n",
      "Epoch 152/200\n",
      "250/250 - 0s - loss: 0.0812 - accuracy: 0.8969 - 328ms/epoch - 1ms/step\n",
      "Epoch 153/200\n",
      "250/250 - 0s - loss: 0.0809 - accuracy: 0.8957 - 333ms/epoch - 1ms/step\n",
      "Epoch 154/200\n",
      "250/250 - 0s - loss: 0.0810 - accuracy: 0.8975 - 332ms/epoch - 1ms/step\n",
      "Epoch 155/200\n",
      "250/250 - 0s - loss: 0.0811 - accuracy: 0.8964 - 328ms/epoch - 1ms/step\n",
      "Epoch 156/200\n",
      "250/250 - 0s - loss: 0.0806 - accuracy: 0.8965 - 331ms/epoch - 1ms/step\n",
      "Epoch 157/200\n",
      "250/250 - 0s - loss: 0.0804 - accuracy: 0.8991 - 330ms/epoch - 1ms/step\n",
      "Epoch 158/200\n",
      "250/250 - 0s - loss: 0.0804 - accuracy: 0.8982 - 330ms/epoch - 1ms/step\n",
      "Epoch 159/200\n",
      "250/250 - 0s - loss: 0.0801 - accuracy: 0.8964 - 333ms/epoch - 1ms/step\n",
      "Epoch 160/200\n",
      "250/250 - 0s - loss: 0.0800 - accuracy: 0.8980 - 328ms/epoch - 1ms/step\n",
      "Epoch 161/200\n",
      "250/250 - 0s - loss: 0.0799 - accuracy: 0.8986 - 334ms/epoch - 1ms/step\n",
      "Epoch 162/200\n",
      "250/250 - 0s - loss: 0.0799 - accuracy: 0.8976 - 329ms/epoch - 1ms/step\n",
      "Epoch 163/200\n",
      "250/250 - 0s - loss: 0.0801 - accuracy: 0.8988 - 329ms/epoch - 1ms/step\n",
      "Epoch 164/200\n",
      "250/250 - 0s - loss: 0.0797 - accuracy: 0.8975 - 339ms/epoch - 1ms/step\n",
      "Epoch 165/200\n",
      "250/250 - 0s - loss: 0.0792 - accuracy: 0.8994 - 328ms/epoch - 1ms/step\n",
      "Epoch 166/200\n",
      "250/250 - 0s - loss: 0.0802 - accuracy: 0.8980 - 336ms/epoch - 1ms/step\n",
      "Epoch 167/200\n",
      "250/250 - 0s - loss: 0.0796 - accuracy: 0.8981 - 329ms/epoch - 1ms/step\n",
      "Epoch 168/200\n",
      "250/250 - 0s - loss: 0.0795 - accuracy: 0.8969 - 331ms/epoch - 1ms/step\n",
      "Epoch 169/200\n",
      "250/250 - 0s - loss: 0.0795 - accuracy: 0.9001 - 335ms/epoch - 1ms/step\n",
      "Epoch 170/200\n",
      "250/250 - 0s - loss: 0.0793 - accuracy: 0.8984 - 329ms/epoch - 1ms/step\n",
      "Epoch 171/200\n",
      "250/250 - 0s - loss: 0.0791 - accuracy: 0.9003 - 337ms/epoch - 1ms/step\n",
      "Epoch 172/200\n",
      "250/250 - 0s - loss: 0.0789 - accuracy: 0.8991 - 332ms/epoch - 1ms/step\n",
      "Epoch 173/200\n",
      "250/250 - 0s - loss: 0.0791 - accuracy: 0.9005 - 331ms/epoch - 1ms/step\n",
      "Epoch 174/200\n",
      "250/250 - 0s - loss: 0.0789 - accuracy: 0.8991 - 335ms/epoch - 1ms/step\n",
      "Epoch 175/200\n",
      "250/250 - 0s - loss: 0.0791 - accuracy: 0.8995 - 329ms/epoch - 1ms/step\n",
      "Epoch 176/200\n",
      "250/250 - 0s - loss: 0.0793 - accuracy: 0.8991 - 395ms/epoch - 2ms/step\n",
      "Epoch 177/200\n",
      "250/250 - 0s - loss: 0.0789 - accuracy: 0.8982 - 310ms/epoch - 1ms/step\n",
      "Epoch 178/200\n",
      "250/250 - 0s - loss: 0.0791 - accuracy: 0.9001 - 329ms/epoch - 1ms/step\n",
      "Epoch 179/200\n",
      "250/250 - 0s - loss: 0.0788 - accuracy: 0.9006 - 336ms/epoch - 1ms/step\n",
      "Epoch 180/200\n",
      "250/250 - 0s - loss: 0.0791 - accuracy: 0.9003 - 332ms/epoch - 1ms/step\n",
      "Epoch 181/200\n",
      "250/250 - 0s - loss: 0.0790 - accuracy: 0.8994 - 333ms/epoch - 1ms/step\n",
      "Epoch 182/200\n",
      "250/250 - 0s - loss: 0.0784 - accuracy: 0.9013 - 330ms/epoch - 1ms/step\n",
      "Epoch 183/200\n",
      "250/250 - 0s - loss: 0.0784 - accuracy: 0.9011 - 332ms/epoch - 1ms/step\n",
      "Epoch 184/200\n",
      "250/250 - 0s - loss: 0.0788 - accuracy: 0.9007 - 333ms/epoch - 1ms/step\n",
      "Epoch 185/200\n",
      "250/250 - 0s - loss: 0.0784 - accuracy: 0.8996 - 328ms/epoch - 1ms/step\n",
      "Epoch 186/200\n",
      "250/250 - 0s - loss: 0.0781 - accuracy: 0.9021 - 333ms/epoch - 1ms/step\n",
      "Epoch 187/200\n",
      "250/250 - 0s - loss: 0.0779 - accuracy: 0.9014 - 333ms/epoch - 1ms/step\n",
      "Epoch 188/200\n",
      "250/250 - 0s - loss: 0.0785 - accuracy: 0.9005 - 329ms/epoch - 1ms/step\n",
      "Epoch 189/200\n",
      "250/250 - 0s - loss: 0.0784 - accuracy: 0.9006 - 331ms/epoch - 1ms/step\n",
      "Epoch 190/200\n",
      "250/250 - 0s - loss: 0.0784 - accuracy: 0.9007 - 329ms/epoch - 1ms/step\n",
      "Epoch 191/200\n",
      "250/250 - 0s - loss: 0.0782 - accuracy: 0.9021 - 328ms/epoch - 1ms/step\n",
      "Epoch 192/200\n",
      "250/250 - 0s - loss: 0.0781 - accuracy: 0.9013 - 331ms/epoch - 1ms/step\n",
      "Epoch 193/200\n",
      "250/250 - 0s - loss: 0.0785 - accuracy: 0.9010 - 328ms/epoch - 1ms/step\n",
      "Epoch 194/200\n",
      "250/250 - 0s - loss: 0.0776 - accuracy: 0.9022 - 330ms/epoch - 1ms/step\n",
      "Epoch 195/200\n",
      "250/250 - 0s - loss: 0.0775 - accuracy: 0.9025 - 329ms/epoch - 1ms/step\n",
      "Epoch 196/200\n",
      "250/250 - 0s - loss: 0.0780 - accuracy: 0.9004 - 329ms/epoch - 1ms/step\n",
      "Epoch 197/200\n",
      "250/250 - 0s - loss: 0.0779 - accuracy: 0.9019 - 332ms/epoch - 1ms/step\n",
      "Epoch 198/200\n",
      "250/250 - 0s - loss: 0.0780 - accuracy: 0.9020 - 327ms/epoch - 1ms/step\n",
      "Epoch 199/200\n",
      "250/250 - 0s - loss: 0.0777 - accuracy: 0.9014 - 330ms/epoch - 1ms/step\n",
      "Epoch 200/200\n",
      "250/250 - 0s - loss: 0.0780 - accuracy: 0.9020 - 331ms/epoch - 1ms/step\n"
     ]
    }
   ],
   "source": [
    "history = model.fit(x_train, y_train, batch_size=32, epochs=200, verbose=2)"
   ]
  },
  {
   "cell_type": "code",
   "execution_count": 10,
   "metadata": {},
   "outputs": [
    {
     "data": {
      "text/plain": [
       "Text(0.5, 1.0, 'accuracy')"
      ]
     },
     "execution_count": 10,
     "metadata": {},
     "output_type": "execute_result"
    },
    {
     "data": {
      "image/png": "[encoded data removed]",
      "text/plain": [
       "<Figure size 432x288 with 1 Axes>"
      ]
     },
     "metadata": {
      "needs_background": "light"
     },
     "output_type": "display_data"
    }
   ],
   "source": [
    "accuracy = history.history['accuracy']\n",
    "plt.plot(accuracy)\n",
    "plt.title('accuracy')"
   ]
  },
  {
   "cell_type": "code",
   "execution_count": 11,
   "metadata": {},
   "outputs": [
    {
     "data": {
      "image/png": "[encoded data removed]",
      "text/plain": [
       "<Figure size 432x288 with 1 Axes>"
      ]
     },
     "metadata": {
      "needs_background": "light"
     },
     "output_type": "display_data"
    }
   ],
   "source": [
    "loss = history.history['loss']\n",
    "plt.plot(loss)\n",
    "plt.title('loss')\n",
    "plt.show()"
   ]
  },
  {
   "cell_type": "code",
   "execution_count": 13,
   "metadata": {},
   "outputs": [
    {
     "name": "stdout",
     "output_type": "stream",
     "text": [
      "[[False]]\n"
     ]
    }
   ],
   "source": [
    "print(model.predict(sc.transform([[1, 0, 0, 600, 1, 40, 3, 60000, 2, 1, 1, 50000]])) > 0.5)"
   ]
  },
  {
   "cell_type": "code",
   "execution_count": 15,
   "metadata": {},
   "outputs": [
    {
     "name": "stdout",
     "output_type": "stream",
     "text": [
      "[[0 0]\n",
      " [0 1]\n",
      " [0 0]\n",
      " ...\n",
      " [0 0]\n",
      " [0 0]\n",
      " [0 0]]\n"
     ]
    }
   ],
   "source": [
    "y_pred = model.predict(x_test) > 0.5\n",
    "print(np.concatenate((y_pred.reshape(len(y_pred), 1), y_test.reshape(len(y_test), 1)), 1))"
   ]
  },
  {
   "cell_type": "code",
   "execution_count": 18,
   "metadata": {},
   "outputs": [
    {
     "name": "stdout",
     "output_type": "stream",
     "text": [
      "[[1478  117]\n",
      " [ 195  210]]\n"
     ]
    },
    {
     "data": {
      "text/plain": [
       "0.844"
      ]
     },
     "execution_count": 18,
     "metadata": {},
     "output_type": "execute_result"
    }
   ],
   "source": [
    "from sklearn.metrics import confusion_matrix, accuracy_score\n",
    "cm = confusion_matrix(y_test, y_pred)\n",
    "print(cm)\n",
    "accuracy_score(y_test, y_pred)"
   ]
  }
 ],
 "metadata": {
  "interpreter": {
   "hash": "31f2aee4e71d21fbe5cf8b01ff0e069b9275f58929596ceb00d14d90e3e16cd6"
  },
  "kernelspec": {
   "display_name": "Python 3.8.10 64-bit",
   "language": "python",
   "name": "python3"
  },
  "language_info": {
   "codemirror_mode": {
    "name": "ipython",
    "version": 3
   },
   "file_extension": ".py",
   "mimetype": "text/x-python",
   "name": "python",
   "nbconvert_exporter": "python",
   "pygments_lexer": "ipython3",
   "version": "3.8.10"
  },
  "orig_nbformat": 4
 },
 "nbformat": 4,
 "nbformat_minor": 2
}
